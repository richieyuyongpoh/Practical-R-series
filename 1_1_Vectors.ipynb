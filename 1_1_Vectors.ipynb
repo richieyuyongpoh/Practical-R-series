{
  "nbformat": 4,
  "nbformat_minor": 0,
  "metadata": {
    "colab": {
      "name": "1.1 Vectors.ipynb",
      "provenance": [],
      "collapsed_sections": [
        "bDjKeO6v2uRk",
        "1410cw0X6hWt",
        "hE5XC55_9lEo",
        "62n2D6ss_z9u",
        "J2ijT2gkBnUa"
      ],
      "toc_visible": true,
      "include_colab_link": true
    },
    "kernelspec": {
      "name": "ir",
      "display_name": "R"
    }
  },
  "cells": [
    {
      "cell_type": "markdown",
      "metadata": {
        "id": "view-in-github",
        "colab_type": "text"
      },
      "source": [
        "<a href=\"https://colab.research.google.com/github/richieyuyongpoh/Practical-R-series/blob/main/1_1_Vectors.ipynb\" target=\"_parent\"><img src=\"https://colab.research.google.com/assets/colab-badge.svg\" alt=\"Open In Colab\"/></a>"
      ]
    },
    {
      "cell_type": "markdown",
      "metadata": {
        "id": "pQPn75abzMwl"
      },
      "source": [
        "# **Learn it in 5 minutes - Practical Series**"
      ]
    },
    {
      "cell_type": "markdown",
      "metadata": {
        "id": "1uPh-23czP6x"
      },
      "source": [
        "Prepared by:\n",
        "    \n",
        "Dr. Yong Poh Yu\n",
        "<br><br>\n",
        "\n",
        "LinkedIn: [Yong Poh Yu](https://www.linkedin.com/in/yong-poh-yu/)\n",
        "\n",
        "Github: [Practical R Series](https://github.com/richieyuyongpoh/Practical-R-series/tree/main/Introduction) \n",
        "\n"
      ]
    },
    {
      "cell_type": "markdown",
      "metadata": {
        "id": "c9Ttb1sTCHmb"
      },
      "source": [
        "# **Notice**\n",
        "The practical handout is open-source and under \n",
        "[GNU General Public License v3.0](https://www.gnu.org/licenses/gpl-3.0.en.html).\n",
        "\n",
        "Please cite my repository/work if you are using any contents written in this practical handout. "
      ]
    },
    {
      "cell_type": "markdown",
      "metadata": {
        "id": "1410cw0X6hWt"
      },
      "source": [
        "## Vectors\n",
        "\n",
        "Main Reference: [SWIRL](http://swirlstats.com/)"
      ]
    },
    {
      "cell_type": "markdown",
      "metadata": {
        "id": "oIRG1c7_6o-G"
      },
      "source": [
        "**Introduction**\n",
        "\n",
        "Numerical vectors: contain the numerical values only\n",
        "\n",
        "Logical vectors: contain the values TRUE, FALSE, and NA\n",
        "\n",
        "Character vector: contain the Characters only"
      ]
    },
    {
      "cell_type": "markdown",
      "metadata": {
        "id": "qMjlJfYX6324"
      },
      "source": [
        "1: create a numeric vector `num_vect` that contains the values 7, 55,-10, and 10."
      ]
    },
    {
      "cell_type": "code",
      "metadata": {
        "id": "eUdhHeZ26klQ",
        "colab": {
          "base_uri": "https://localhost:8080/",
          "height": 34
        },
        "outputId": "79924b56-ad57-403c-d719-905a546e4773"
      },
      "source": [
        "num_vect <- c(7, 55, -10, 10)\n",
        "num_vect"
      ],
      "execution_count": 2,
      "outputs": [
        {
          "output_type": "display_data",
          "data": {
            "text/plain": [
              "[1]   7  55 -10  10"
            ],
            "text/latex": "\\begin{enumerate*}\n\\item 7\n\\item 55\n\\item -10\n\\item 10\n\\end{enumerate*}\n",
            "text/markdown": "1. 7\n2. 55\n3. -10\n4. 10\n\n\n",
            "text/html": [
              "<style>\n",
              ".list-inline {list-style: none; margin:0; padding: 0}\n",
              ".list-inline>li {display: inline-block}\n",
              ".list-inline>li:not(:last-child)::after {content: \"\\00b7\"; padding: 0 .5ex}\n",
              "</style>\n",
              "<ol class=list-inline><li>7</li><li>55</li><li>-10</li><li>10</li></ol>\n"
            ]
          },
          "metadata": {
            "tags": []
          }
        }
      ]
    },
    {
      "cell_type": "markdown",
      "metadata": {
        "id": "1PG9JSUc7C-v"
      },
      "source": [
        "2: create a variable called `tf` that gets the result of `num_vect < 11`"
      ]
    },
    {
      "cell_type": "code",
      "metadata": {
        "id": "Fg1Tfjgn7Ia7",
        "colab": {
          "base_uri": "https://localhost:8080/",
          "height": 34
        },
        "outputId": "c0325323-a2fd-45f6-91e6-8ece80b8689a"
      },
      "source": [
        "tf <- num_vect < 11\n",
        "tf"
      ],
      "execution_count": 3,
      "outputs": [
        {
          "output_type": "display_data",
          "data": {
            "text/plain": [
              "[1]  TRUE FALSE  TRUE  TRUE"
            ],
            "text/latex": "\\begin{enumerate*}\n\\item TRUE\n\\item FALSE\n\\item TRUE\n\\item TRUE\n\\end{enumerate*}\n",
            "text/markdown": "1. TRUE\n2. FALSE\n3. TRUE\n4. TRUE\n\n\n",
            "text/html": [
              "<style>\n",
              ".list-inline {list-style: none; margin:0; padding: 0}\n",
              ".list-inline>li {display: inline-block}\n",
              ".list-inline>li:not(:last-child)::after {content: \"\\00b7\"; padding: 0 .5ex}\n",
              "</style>\n",
              "<ol class=list-inline><li>TRUE</li><li>FALSE</li><li>TRUE</li><li>TRUE</li></ol>\n"
            ]
          },
          "metadata": {
            "tags": []
          }
        }
      ]
    },
    {
      "cell_type": "markdown",
      "metadata": {
        "id": "5Z6sEzpRIWab"
      },
      "source": [
        "3: How many numbers in the num_vector are smaller than 11?"
      ]
    },
    {
      "cell_type": "code",
      "metadata": {
        "colab": {
          "base_uri": "https://localhost:8080/",
          "height": 34
        },
        "id": "Sy-WGHfigcyj",
        "outputId": "eacc977c-0c28-4299-de69-9e026777e424"
      },
      "source": [
        "sum(tf)"
      ],
      "execution_count": 4,
      "outputs": [
        {
          "output_type": "display_data",
          "data": {
            "text/plain": [
              "[1] 3"
            ],
            "text/latex": "3",
            "text/markdown": "3",
            "text/html": [
              "3"
            ]
          },
          "metadata": {
            "tags": []
          }
        }
      ]
    },
    {
      "cell_type": "markdown",
      "metadata": {
        "id": "fvgtU4leIffp"
      },
      "source": [
        "4: Which element(s) in the num_vector is/are smaller than 11?"
      ]
    },
    {
      "cell_type": "code",
      "metadata": {
        "colab": {
          "base_uri": "https://localhost:8080/",
          "height": 34
        },
        "id": "6_Xmut1dg8Rn",
        "outputId": "7d06723b-e6ea-4e36-a9c0-8dd3bcd4db16"
      },
      "source": [
        "which (num_vect < 11)"
      ],
      "execution_count": 5,
      "outputs": [
        {
          "output_type": "display_data",
          "data": {
            "text/plain": [
              "[1] 1 3 4"
            ],
            "text/latex": "\\begin{enumerate*}\n\\item 1\n\\item 3\n\\item 4\n\\end{enumerate*}\n",
            "text/markdown": "1. 1\n2. 3\n3. 4\n\n\n",
            "text/html": [
              "<style>\n",
              ".list-inline {list-style: none; margin:0; padding: 0}\n",
              ".list-inline>li {display: inline-block}\n",
              ".list-inline>li:not(:last-child)::after {content: \"\\00b7\"; padding: 0 .5ex}\n",
              "</style>\n",
              "<ol class=list-inline><li>1</li><li>3</li><li>4</li></ol>\n"
            ]
          },
          "metadata": {
            "tags": []
          }
        }
      ]
    },
    {
      "cell_type": "markdown",
      "metadata": {
        "id": "arTMne127Mje"
      },
      "source": [
        "5: get the result of `num_vect` that is greater than OR equal to 6"
      ]
    },
    {
      "cell_type": "code",
      "metadata": {
        "id": "SzFdBuOl7SvT",
        "colab": {
          "base_uri": "https://localhost:8080/",
          "height": 34
        },
        "outputId": "fcf7a320-4379-4db5-925e-9b91ce443fa1"
      },
      "source": [
        "num_vect >= 6"
      ],
      "execution_count": 6,
      "outputs": [
        {
          "output_type": "display_data",
          "data": {
            "text/plain": [
              "[1]  TRUE  TRUE FALSE  TRUE"
            ],
            "text/latex": "\\begin{enumerate*}\n\\item TRUE\n\\item TRUE\n\\item FALSE\n\\item TRUE\n\\end{enumerate*}\n",
            "text/markdown": "1. TRUE\n2. TRUE\n3. FALSE\n4. TRUE\n\n\n",
            "text/html": [
              "<style>\n",
              ".list-inline {list-style: none; margin:0; padding: 0}\n",
              ".list-inline>li {display: inline-block}\n",
              ".list-inline>li:not(:last-child)::after {content: \"\\00b7\"; padding: 0 .5ex}\n",
              "</style>\n",
              "<ol class=list-inline><li>TRUE</li><li>TRUE</li><li>FALSE</li><li>TRUE</li></ol>\n"
            ]
          },
          "metadata": {
            "tags": []
          }
        }
      ]
    },
    {
      "cell_type": "markdown",
      "metadata": {
        "id": "E2GzsuiJ7ejc"
      },
      "source": [
        "6: character vector"
      ]
    },
    {
      "cell_type": "code",
      "metadata": {
        "id": "GD5oWyac7hO5",
        "colab": {
          "base_uri": "https://localhost:8080/",
          "height": 34
        },
        "outputId": "57ea0d62-7dda-4966-8257-295b32f40978"
      },
      "source": [
        "my_favourite_language <- c(\"R\", \"Python\", \"SQL\")\n",
        "my_favourite_language"
      ],
      "execution_count": 7,
      "outputs": [
        {
          "output_type": "display_data",
          "data": {
            "text/plain": [
              "[1] \"R\"      \"Python\" \"SQL\"   "
            ],
            "text/latex": "\\begin{enumerate*}\n\\item 'R'\n\\item 'Python'\n\\item 'SQL'\n\\end{enumerate*}\n",
            "text/markdown": "1. 'R'\n2. 'Python'\n3. 'SQL'\n\n\n",
            "text/html": [
              "<style>\n",
              ".list-inline {list-style: none; margin:0; padding: 0}\n",
              ".list-inline>li {display: inline-block}\n",
              ".list-inline>li:not(:last-child)::after {content: \"\\00b7\"; padding: 0 .5ex}\n",
              "</style>\n",
              "<ol class=list-inline><li>'R'</li><li>'Python'</li><li>'SQL'</li></ol>\n"
            ]
          },
          "metadata": {
            "tags": []
          }
        }
      ]
    },
    {
      "cell_type": "markdown",
      "metadata": {
        "id": "jrZgR2EG7mIt"
      },
      "source": [
        "7: join the elements of `my_favourite_language` together into one continuous character string"
      ]
    },
    {
      "cell_type": "code",
      "metadata": {
        "id": "jLxl0cSw7kw4",
        "colab": {
          "base_uri": "https://localhost:8080/",
          "height": 34
        },
        "outputId": "0f68adbd-40e0-42f4-93a4-0ea668c64790"
      },
      "source": [
        "paste(my_favourite_language, collapse = \" \")"
      ],
      "execution_count": 13,
      "outputs": [
        {
          "output_type": "display_data",
          "data": {
            "text/plain": [
              "[1] \"R Python SQL\""
            ],
            "text/latex": "'R Python SQL'",
            "text/markdown": "'R Python SQL'",
            "text/html": [
              "'R Python SQL'"
            ]
          },
          "metadata": {
            "tags": []
          }
        }
      ]
    },
    {
      "cell_type": "markdown",
      "metadata": {
        "id": "GkKI9PkN7xA6"
      },
      "source": [
        "8:  add more languages\n",
        "\n"
      ]
    },
    {
      "cell_type": "code",
      "metadata": {
        "id": "O6jDWcbl76br",
        "colab": {
          "base_uri": "https://localhost:8080/",
          "height": 34
        },
        "outputId": "2c95a5db-dc7e-48bd-c3ce-5c030298146e"
      },
      "source": [
        "my_favourite_languages <- c(my_favourite_language, \"Java\", \"C\")\n",
        "my_favourite_languages"
      ],
      "execution_count": 9,
      "outputs": [
        {
          "output_type": "display_data",
          "data": {
            "text/plain": [
              "[1] \"R\"      \"Python\" \"SQL\"    \"Java\"   \"C\"     "
            ],
            "text/latex": "\\begin{enumerate*}\n\\item 'R'\n\\item 'Python'\n\\item 'SQL'\n\\item 'Java'\n\\item 'C'\n\\end{enumerate*}\n",
            "text/markdown": "1. 'R'\n2. 'Python'\n3. 'SQL'\n4. 'Java'\n5. 'C'\n\n\n",
            "text/html": [
              "<style>\n",
              ".list-inline {list-style: none; margin:0; padding: 0}\n",
              ".list-inline>li {display: inline-block}\n",
              ".list-inline>li:not(:last-child)::after {content: \"\\00b7\"; padding: 0 .5ex}\n",
              "</style>\n",
              "<ol class=list-inline><li>'R'</li><li>'Python'</li><li>'SQL'</li><li>'Java'</li><li>'C'</li></ol>\n"
            ]
          },
          "metadata": {
            "tags": []
          }
        }
      ]
    },
    {
      "cell_type": "code",
      "metadata": {
        "id": "GWT6oMnc78NH",
        "colab": {
          "base_uri": "https://localhost:8080/",
          "height": 34
        },
        "outputId": "7115f644-1b8e-4cbc-c966-1f095f0605ad"
      },
      "source": [
        "paste(my_favourite_languages, collapse = \" \")"
      ],
      "execution_count": 10,
      "outputs": [
        {
          "output_type": "display_data",
          "data": {
            "text/plain": [
              "[1] \"R Python SQL Java C\""
            ],
            "text/latex": "'R Python SQL Java C'",
            "text/markdown": "'R Python SQL Java C'",
            "text/html": [
              "'R Python SQL Java C'"
            ]
          },
          "metadata": {
            "tags": []
          }
        }
      ]
    },
    {
      "cell_type": "markdown",
      "metadata": {
        "id": "JZK-oeoM770a"
      },
      "source": [
        "9: join two character vectors"
      ]
    },
    {
      "cell_type": "code",
      "metadata": {
        "id": "CpYblU-u8F-j",
        "colab": {
          "base_uri": "https://localhost:8080/",
          "height": 34
        },
        "outputId": "39136574-726e-4c7c-d34f-d547994bb33b"
      },
      "source": [
        "paste(\"Hello\", \"world!\")"
      ],
      "execution_count": 11,
      "outputs": [
        {
          "output_type": "display_data",
          "data": {
            "text/plain": [
              "[1] \"Hello world!\""
            ],
            "text/latex": "'Hello world!'",
            "text/markdown": "'Hello world!'",
            "text/html": [
              "'Hello world!'"
            ]
          },
          "metadata": {
            "tags": []
          }
        }
      ]
    },
    {
      "cell_type": "markdown",
      "metadata": {
        "id": "m_j93MuhJH3Q"
      },
      "source": [
        "10: add `sep` argument"
      ]
    },
    {
      "cell_type": "code",
      "metadata": {
        "colab": {
          "base_uri": "https://localhost:8080/",
          "height": 34
        },
        "id": "nuarLcK4j8Qa",
        "outputId": "bc621217-aee5-4c9c-9bc4-b5d04405cef4"
      },
      "source": [
        "paste(\"Hello\", \"world!\",sep= \",\")"
      ],
      "execution_count": 15,
      "outputs": [
        {
          "output_type": "display_data",
          "data": {
            "text/plain": [
              "[1] \"Hello,world!\""
            ],
            "text/latex": "'Hello,world!'",
            "text/markdown": "'Hello,world!'",
            "text/html": [
              "'Hello,world!'"
            ]
          },
          "metadata": {
            "tags": []
          }
        }
      ]
    },
    {
      "cell_type": "code",
      "metadata": {
        "colab": {
          "base_uri": "https://localhost:8080/",
          "height": 34
        },
        "id": "wGOwB0zVkCbE",
        "outputId": "ec7c2ca0-7ec3-4845-a78e-9751ac1513a8"
      },
      "source": [
        "paste(\"Hello\", \"world!\",sep= \"\")"
      ],
      "execution_count": 14,
      "outputs": [
        {
          "output_type": "display_data",
          "data": {
            "text/plain": [
              "[1] \"Helloworld!\""
            ],
            "text/latex": "'Helloworld!'",
            "text/markdown": "'Helloworld!'",
            "text/html": [
              "'Helloworld!'"
            ]
          },
          "metadata": {
            "tags": []
          }
        }
      ]
    },
    {
      "cell_type": "markdown",
      "metadata": {
        "id": "giGndpItJQRb"
      },
      "source": [
        "11: paste two or more character variables"
      ]
    },
    {
      "cell_type": "code",
      "metadata": {
        "colab": {
          "base_uri": "https://localhost:8080/",
          "height": 34
        },
        "id": "FfEmo0mckhPs",
        "outputId": "35a2b980-c727-4610-cf3f-1d120c91e758"
      },
      "source": [
        "a <- \"TensorFlow\"\n",
        "b <- \"Pytorch\"\n",
        "\n",
        "\n",
        "paste(a,b)"
      ],
      "execution_count": 16,
      "outputs": [
        {
          "output_type": "display_data",
          "data": {
            "text/plain": [
              "[1] \"TensorFlow Pytorch\""
            ],
            "text/latex": "'TensorFlow Pytorch'",
            "text/markdown": "'TensorFlow Pytorch'",
            "text/html": [
              "'TensorFlow Pytorch'"
            ]
          },
          "metadata": {
            "tags": []
          }
        }
      ]
    },
    {
      "cell_type": "markdown",
      "metadata": {
        "id": "k6GYLvyt8QgY"
      },
      "source": [
        "12: Special Case: "
      ]
    },
    {
      "cell_type": "code",
      "metadata": {
        "id": "xOzz4jzz8qhI",
        "colab": {
          "base_uri": "https://localhost:8080/",
          "height": 96
        },
        "outputId": "b091147d-84cf-4220-8eec-7299bffb8732"
      },
      "source": [
        "# loop number\n",
        "n = 10\n",
        "\n",
        "# save the results as an appropriate name that carries the info of loop number\n",
        "\n",
        "# supposedly: result_10 <- 3 + 5\n",
        "\n",
        "# Eg: \n",
        "\n",
        "paste(\"result_\",n,sep=\"\") <- 3 + 5\n"
      ],
      "execution_count": 17,
      "outputs": [
        {
          "output_type": "error",
          "ename": "ERROR",
          "evalue": "ignored",
          "traceback": [
            "Error in paste(\"result_\", n, sep = \"\") <- 3 + 5: target of assignment expands to non-language object\nTraceback:\n"
          ]
        }
      ]
    },
    {
      "cell_type": "markdown",
      "metadata": {
        "id": "dZkmzJGOJtHL"
      },
      "source": [
        "13: How about?"
      ]
    },
    {
      "cell_type": "code",
      "metadata": {
        "id": "fqul998R9XRU",
        "colab": {
          "base_uri": "https://localhost:8080/",
          "height": 34
        },
        "outputId": "b8451e70-bc49-496a-8c61-9988348ddd5d"
      },
      "source": [
        "\n",
        "\n",
        "assign(paste(\"result_\",n,sep=\"\"),  3 + 5) # result_10 <- 3+5\n",
        "\n",
        "result_10"
      ],
      "execution_count": 18,
      "outputs": [
        {
          "output_type": "display_data",
          "data": {
            "text/plain": [
              "[1] 8"
            ],
            "text/latex": "8",
            "text/markdown": "8",
            "text/html": [
              "8"
            ]
          },
          "metadata": {
            "tags": []
          }
        }
      ]
    }
  ]
}