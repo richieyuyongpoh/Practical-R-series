{
  "nbformat": 4,
  "nbformat_minor": 0,
  "metadata": {
    "colab": {
      "name": "Turning Data into Actionable Insights.ipynb",
      "provenance": [],
      "collapsed_sections": [],
      "include_colab_link": true
    },
    "kernelspec": {
      "name": "ir",
      "display_name": "R"
    }
  },
  "cells": [
    {
      "cell_type": "markdown",
      "metadata": {
        "id": "view-in-github",
        "colab_type": "text"
      },
      "source": [
        "<a href=\"https://colab.research.google.com/github/richieyuyongpoh/Practical-R-series/blob/main/Turning_Data_into_Actionable_Insights.ipynb\" target=\"_parent\"><img src=\"https://colab.research.google.com/assets/colab-badge.svg\" alt=\"Open In Colab\"/></a>"
      ]
    },
    {
      "cell_type": "markdown",
      "metadata": {
        "id": "pQPn75abzMwl"
      },
      "source": [
        "# **Turning Data into Actionable Insights**"
      ]
    },
    {
      "cell_type": "markdown",
      "metadata": {
        "id": "1uPh-23czP6x"
      },
      "source": [
        "Prepared by:\n",
        "    \n",
        "Dr. Yong Poh Yu\n",
        "<br><br>\n",
        "\n",
        "LinkedIn: [Yong Poh Yu](https://www.linkedin.com/in/yong-poh-yu/)\n",
        "\n",
        "Github: [Practical R Series](https://github.com/richieyuyongpoh/Practical-R-series/blob/main/Turning_Data_into_Actionable_Insights.ipynb) \n",
        "\n"
      ]
    },
    {
      "cell_type": "markdown",
      "metadata": {
        "id": "c9Ttb1sTCHmb"
      },
      "source": [
        "# **Notice**\n",
        "The practical handout is open-source and under \n",
        "[GNU General Public License v3.0](https://www.gnu.org/licenses/gpl-3.0.en.html).\n",
        "\n",
        "Please cite my repository/work if you are using any contents written in this practical handout. "
      ]
    },
    {
      "cell_type": "markdown",
      "metadata": {
        "id": "bDjKeO6v2uRk"
      },
      "source": [
        "## **Use Case 1: Customer Segmentation**\n",
        "\n",
        "[Reference](https://anthonysmoak.com/2018/12/24/connecting-tableau-with-r/)  "
      ]
    },
    {
      "cell_type": "markdown",
      "metadata": {
        "id": "MhTp9JlbUKI6"
      },
      "source": [
        "### Motivation\n",
        "\n",
        "Customer Segmentation is the subdivision of a market into discrete customer groups that share similar characteristics. Customer Segmentation can be a powerful means to identify unsatisfied customer needs. \n",
        "\n",
        "The most common ways in which businesses segment their customer base are:\n",
        " \n",
        "\n",
        "*   Customer Background, eg: geographical information\n",
        "*   Behavioral Data, eg: spending habit\n",
        "\n"
      ]
    },
    {
      "cell_type": "markdown",
      "metadata": {
        "id": "DgHSSR6GVEv6"
      },
      "source": [
        "### Advantages of Customer Segmentation\n",
        "\n",
        "*   Determine appropriate product pricing.\n",
        "*   Develop customized marketing campaigns.\n",
        "*   Design an optimal distribution strategy.\n",
        "*   Choose specific product features for deployment.\n",
        "*   Prioritize new product development efforts.\n"
      ]
    },
    {
      "cell_type": "markdown",
      "metadata": {
        "id": "NbbzL4osVxdX"
      },
      "source": [
        "### Introduction to *k*-means\n",
        "\n",
        "*   Specify number of clusters K.\n",
        "*   Initialize centroids by first shuffling the dataset and then randomly selecting K data points for the centroids without replacement.\n",
        "*   Keep iterating until there is no change to the centroids. i.e assignment of data points to clusters isn’t changing."
      ]
    },
    {
      "cell_type": "markdown",
      "metadata": {
        "id": "AjyogDiaWVwK"
      },
      "source": [
        "![1_nUeCekOIAw7gsMxyVu1mRA.png](data:image/png;base64,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)\n",
        "\n",
        "\n",
        "\n",
        "(photo credit: [HERE](https://towardsdatascience.com/customer-segmentation-using-k-means-clustering-d33964f238c3) )"
      ]
    },
    {
      "cell_type": "markdown",
      "metadata": {
        "id": "rEM6Yn6NWpLL"
      },
      "source": [
        "### *k*-means (in English)\n",
        "\n",
        "To simply the analytical processes, i want to design a solution that helps to automatically group my customers into few groups. Every group has its own uniqueness. There is/are significant differences between any two groups. \n",
        "\n",
        "For instance, **Group 2 members (auto grouped by machine@computer) tend to buy Grocery, Milk and Detergent Paper together, with higher amount of expenses** . \n",
        "\n",
        "*k*-means can easily group @segmentize the customers such a way. "
      ]
    },
    {
      "cell_type": "markdown",
      "metadata": {
        "id": "H8hu24urYd7T"
      },
      "source": [
        "### Real-time Demo\n",
        "\n",
        "Go to the [page](https://www.richieyyptutorialpage.com/demo-r-series/customer-segmention-using-k-means)\n",
        "\n"
      ]
    },
    {
      "cell_type": "markdown",
      "metadata": {
        "id": "yJgXDgiqZkwQ"
      },
      "source": [
        "### Practical Codes (in R)\n",
        "\n",
        "Note: For the following codes, we shall just roughly *touch and go* first. The details of each function@syntax will be discussed in the subsequent subsections. "
      ]
    },
    {
      "cell_type": "markdown",
      "metadata": {
        "id": "Y9R5_HYH4wA0"
      },
      "source": [
        "1: Read the [`Wholesale customers data.csv`](https://raw.githubusercontent.com/richieyuyongpoh/Practical-R-series/main/Wholesale%20customers%20data.csv) . \n",
        "\n",
        "This data set refers to clients of a wholesale distributor. It includes the annual spending in monetary units (m.u.) on diverse product categories\n",
        "\n",
        "For more information, please refer to this [page](https://archive.ics.uci.edu/ml/datasets/wholesale+customers)."
      ]
    },
    {
      "cell_type": "code",
      "metadata": {
        "id": "p160BDyi4zdx",
        "colab": {
          "base_uri": "https://localhost:8080/",
          "height": 286
        },
        "outputId": "1db3a836-11d5-4f23-c04d-ebab9867006d"
      },
      "source": [
        "myData <- read.csv(\"https://raw.githubusercontent.com/richieyuyongpoh/Practical-R-series/main/Wholesale%20customers%20data.csv\")\n",
        "head(myData)"
      ],
      "execution_count": 44,
      "outputs": [
        {
          "output_type": "display_data",
          "data": {
            "text/plain": [
              "  CustomerId Channel Region Fresh Milk Grocery Frozen Detergents_Paper\n",
              "1 1          2       3      12669 9656 7561     214   2674            \n",
              "2 2          2       3       7057 9810 9568    1762   3293            \n",
              "3 3          2       3       6353 8808 7684    2405   3516            \n",
              "4 4          1       3      13265 1196 4221    6404    507            \n",
              "5 5          2       3      22615 5410 7198    3915   1777            \n",
              "6 6          2       3       9413 8259 5126     666   1795            \n",
              "  Delicassen\n",
              "1 1338      \n",
              "2 1776      \n",
              "3 7844      \n",
              "4 1788      \n",
              "5 5185      \n",
              "6 1451      "
            ],
            "text/latex": "A data.frame: 6 × 9\n\\begin{tabular}{r|lllllllll}\n  & CustomerId & Channel & Region & Fresh & Milk & Grocery & Frozen & Detergents\\_Paper & Delicassen\\\\\n  & <int> & <int> & <int> & <int> & <int> & <int> & <int> & <int> & <int>\\\\\n\\hline\n\t1 & 1 & 2 & 3 & 12669 & 9656 & 7561 &  214 & 2674 & 1338\\\\\n\t2 & 2 & 2 & 3 &  7057 & 9810 & 9568 & 1762 & 3293 & 1776\\\\\n\t3 & 3 & 2 & 3 &  6353 & 8808 & 7684 & 2405 & 3516 & 7844\\\\\n\t4 & 4 & 1 & 3 & 13265 & 1196 & 4221 & 6404 &  507 & 1788\\\\\n\t5 & 5 & 2 & 3 & 22615 & 5410 & 7198 & 3915 & 1777 & 5185\\\\\n\t6 & 6 & 2 & 3 &  9413 & 8259 & 5126 &  666 & 1795 & 1451\\\\\n\\end{tabular}\n",
            "text/markdown": "\nA data.frame: 6 × 9\n\n| <!--/--> | CustomerId &lt;int&gt; | Channel &lt;int&gt; | Region &lt;int&gt; | Fresh &lt;int&gt; | Milk &lt;int&gt; | Grocery &lt;int&gt; | Frozen &lt;int&gt; | Detergents_Paper &lt;int&gt; | Delicassen &lt;int&gt; |\n|---|---|---|---|---|---|---|---|---|---|\n| 1 | 1 | 2 | 3 | 12669 | 9656 | 7561 |  214 | 2674 | 1338 |\n| 2 | 2 | 2 | 3 |  7057 | 9810 | 9568 | 1762 | 3293 | 1776 |\n| 3 | 3 | 2 | 3 |  6353 | 8808 | 7684 | 2405 | 3516 | 7844 |\n| 4 | 4 | 1 | 3 | 13265 | 1196 | 4221 | 6404 |  507 | 1788 |\n| 5 | 5 | 2 | 3 | 22615 | 5410 | 7198 | 3915 | 1777 | 5185 |\n| 6 | 6 | 2 | 3 |  9413 | 8259 | 5126 |  666 | 1795 | 1451 |\n\n",
            "text/html": [
              "<table class=\"dataframe\">\n",
              "<caption>A data.frame: 6 × 9</caption>\n",
              "<thead>\n",
              "\t<tr><th></th><th scope=col>CustomerId</th><th scope=col>Channel</th><th scope=col>Region</th><th scope=col>Fresh</th><th scope=col>Milk</th><th scope=col>Grocery</th><th scope=col>Frozen</th><th scope=col>Detergents_Paper</th><th scope=col>Delicassen</th></tr>\n",
              "\t<tr><th></th><th scope=col>&lt;int&gt;</th><th scope=col>&lt;int&gt;</th><th scope=col>&lt;int&gt;</th><th scope=col>&lt;int&gt;</th><th scope=col>&lt;int&gt;</th><th scope=col>&lt;int&gt;</th><th scope=col>&lt;int&gt;</th><th scope=col>&lt;int&gt;</th><th scope=col>&lt;int&gt;</th></tr>\n",
              "</thead>\n",
              "<tbody>\n",
              "\t<tr><th scope=row>1</th><td>1</td><td>2</td><td>3</td><td>12669</td><td>9656</td><td>7561</td><td> 214</td><td>2674</td><td>1338</td></tr>\n",
              "\t<tr><th scope=row>2</th><td>2</td><td>2</td><td>3</td><td> 7057</td><td>9810</td><td>9568</td><td>1762</td><td>3293</td><td>1776</td></tr>\n",
              "\t<tr><th scope=row>3</th><td>3</td><td>2</td><td>3</td><td> 6353</td><td>8808</td><td>7684</td><td>2405</td><td>3516</td><td>7844</td></tr>\n",
              "\t<tr><th scope=row>4</th><td>4</td><td>1</td><td>3</td><td>13265</td><td>1196</td><td>4221</td><td>6404</td><td> 507</td><td>1788</td></tr>\n",
              "\t<tr><th scope=row>5</th><td>5</td><td>2</td><td>3</td><td>22615</td><td>5410</td><td>7198</td><td>3915</td><td>1777</td><td>5185</td></tr>\n",
              "\t<tr><th scope=row>6</th><td>6</td><td>2</td><td>3</td><td> 9413</td><td>8259</td><td>5126</td><td> 666</td><td>1795</td><td>1451</td></tr>\n",
              "</tbody>\n",
              "</table>\n"
            ]
          },
          "metadata": {}
        }
      ]
    },
    {
      "cell_type": "markdown",
      "metadata": {
        "id": "dPN3H_Bta3yM"
      },
      "source": [
        "2: Observe the summary of the dataset"
      ]
    },
    {
      "cell_type": "code",
      "metadata": {
        "id": "jgc98f1P5APr",
        "colab": {
          "base_uri": "https://localhost:8080/",
          "height": 381
        },
        "outputId": "34896b25-f00c-41e7-ebcf-ef6b302fad05"
      },
      "source": [
        "summary(myData)"
      ],
      "execution_count": 2,
      "outputs": [
        {
          "output_type": "display_data",
          "data": {
            "text/plain": [
              "   CustomerId       Channel          Region          Fresh       \n",
              " Min.   :  1.0   Min.   :1.000   Min.   :1.000   Min.   :     3  \n",
              " 1st Qu.:110.8   1st Qu.:1.000   1st Qu.:2.000   1st Qu.:  3128  \n",
              " Median :220.5   Median :1.000   Median :3.000   Median :  8504  \n",
              " Mean   :220.5   Mean   :1.323   Mean   :2.543   Mean   : 12000  \n",
              " 3rd Qu.:330.2   3rd Qu.:2.000   3rd Qu.:3.000   3rd Qu.: 16934  \n",
              " Max.   :440.0   Max.   :2.000   Max.   :3.000   Max.   :112151  \n",
              "      Milk          Grocery          Frozen        Detergents_Paper \n",
              " Min.   :   55   Min.   :    3   Min.   :   25.0   Min.   :    3.0  \n",
              " 1st Qu.: 1533   1st Qu.: 2153   1st Qu.:  742.2   1st Qu.:  256.8  \n",
              " Median : 3627   Median : 4756   Median : 1526.0   Median :  816.5  \n",
              " Mean   : 5796   Mean   : 7951   Mean   : 3071.9   Mean   : 2881.5  \n",
              " 3rd Qu.: 7190   3rd Qu.:10656   3rd Qu.: 3554.2   3rd Qu.: 3922.0  \n",
              " Max.   :73498   Max.   :92780   Max.   :60869.0   Max.   :40827.0  \n",
              "   Delicassen     \n",
              " Min.   :    3.0  \n",
              " 1st Qu.:  408.2  \n",
              " Median :  965.5  \n",
              " Mean   : 1524.9  \n",
              " 3rd Qu.: 1820.2  \n",
              " Max.   :47943.0  "
            ]
          },
          "metadata": {}
        }
      ]
    },
    {
      "cell_type": "markdown",
      "metadata": {
        "id": "WGExXVK55Cp5"
      },
      "source": [
        "3: Is there any outlier? \n",
        "\n",
        "demo: go to this [page](https://www.richieyyptutorialpage.com/demo-r-series/exploratory-data-analysis)"
      ]
    },
    {
      "cell_type": "code",
      "metadata": {
        "id": "iHq2B1MVenNa"
      },
      "source": [
        "install.packages(\"tidyr\")"
      ],
      "execution_count": null,
      "outputs": []
    },
    {
      "cell_type": "code",
      "metadata": {
        "id": "PbESA-7f5Gfh",
        "colab": {
          "base_uri": "https://localhost:8080/",
          "height": 437
        },
        "outputId": "b3333380-8aa4-441a-a280-f1fbb2a9ee22"
      },
      "source": [
        "library(ggplot2)\n",
        "library(tidyr)\n",
        "library(dplyr)\n",
        "myData %>% select(Fresh, Milk, Grocery,Frozen,Detergents_Paper, Delicassen) %>%\n",
        "  pivot_longer( cols = c(Fresh, Milk, Grocery,Frozen,Detergents_Paper, Delicassen), \n",
        "                names_to = \"Type\", \n",
        "                values_to = \"Amount_Spent\") %>%\n",
        "  ggplot(aes(x = Type, y = Amount_Spent, fill = Type)) +\n",
        "    geom_boxplot() "
      ],
      "execution_count": 48,
      "outputs": [
        {
          "output_type": "display_data",
          "data": {
            "image/png": "[encoded data removed]",
            "text/plain": [
              "plot without title"
            ]
          },
          "metadata": {
            "image/png": {
              "width": 420,
              "height": 420
            }
          }
        }
      ]
    },
    {
      "cell_type": "markdown",
      "metadata": {
        "id": "F_B1qiX35L05"
      },
      "source": [
        "4: How about *k*-means? "
      ]
    },
    {
      "cell_type": "code",
      "metadata": {
        "id": "PzaCyOie5LTw",
        "colab": {
          "base_uri": "https://localhost:8080/",
          "height": 51
        },
        "outputId": "f0e8bb33-3107-47b9-c3a9-37c9321263cf"
      },
      "source": [
        "selectedData <- select (myData,Fresh, Milk, Grocery,Frozen,Detergents_Paper, Delicassen)\n",
        "km_res <- kmeans (selectedData,centers = 5,nstart = 20)\n",
        "results_5clusters <- factor(km_res$cluster)\n",
        "head(results_5clusters)"
      ],
      "execution_count": 49,
      "outputs": [
        {
          "output_type": "display_data",
          "data": {
            "text/plain": [
              "[1] 3 3 3 3 5 3\n",
              "Levels: 1 2 3 4 5"
            ],
            "text/latex": "\\begin{enumerate*}\n\\item 3\n\\item 3\n\\item 3\n\\item 3\n\\item 5\n\\item 3\n\\end{enumerate*}\n\n\\emph{Levels}: \\begin{enumerate*}\n\\item '1'\n\\item '2'\n\\item '3'\n\\item '4'\n\\item '5'\n\\end{enumerate*}\n",
            "text/markdown": "1. 3\n2. 3\n3. 3\n4. 3\n5. 5\n6. 3\n\n\n\n**Levels**: 1. '1'\n2. '2'\n3. '3'\n4. '4'\n5. '5'\n\n\n",
            "text/html": [
              "<style>\n",
              ".list-inline {list-style: none; margin:0; padding: 0}\n",
              ".list-inline>li {display: inline-block}\n",
              ".list-inline>li:not(:last-child)::after {content: \"\\00b7\"; padding: 0 .5ex}\n",
              "</style>\n",
              "<ol class=list-inline><li>3</li><li>3</li><li>3</li><li>3</li><li>5</li><li>3</li></ol>\n",
              "\n",
              "<details>\n",
              "\t<summary style=display:list-item;cursor:pointer>\n",
              "\t\t<strong>Levels</strong>:\n",
              "\t</summary>\n",
              "\t<style>\n",
              "\t.list-inline {list-style: none; margin:0; padding: 0}\n",
              "\t.list-inline>li {display: inline-block}\n",
              "\t.list-inline>li:not(:last-child)::after {content: \"\\00b7\"; padding: 0 .5ex}\n",
              "\t</style>\n",
              "\t<ol class=list-inline><li>'1'</li><li>'2'</li><li>'3'</li><li>'4'</li><li>'5'</li></ol>\n",
              "</details>"
            ]
          },
          "metadata": {}
        }
      ]
    },
    {
      "cell_type": "code",
      "metadata": {
        "colab": {
          "base_uri": "https://localhost:8080/",
          "height": 286
        },
        "id": "cz2DfORvglo0",
        "outputId": "b9e1ae11-7024-4fd7-8e1d-4fa7308e3692"
      },
      "source": [
        "myDataClustered <- cbind(myData,results_5clusters)\n",
        "head(myDataClustered)"
      ],
      "execution_count": 50,
      "outputs": [
        {
          "output_type": "display_data",
          "data": {
            "text/plain": [
              "  CustomerId Channel Region Fresh Milk Grocery Frozen Detergents_Paper\n",
              "1 1          2       3      12669 9656 7561     214   2674            \n",
              "2 2          2       3       7057 9810 9568    1762   3293            \n",
              "3 3          2       3       6353 8808 7684    2405   3516            \n",
              "4 4          1       3      13265 1196 4221    6404    507            \n",
              "5 5          2       3      22615 5410 7198    3915   1777            \n",
              "6 6          2       3       9413 8259 5126     666   1795            \n",
              "  Delicassen results_5clusters\n",
              "1 1338       3                \n",
              "2 1776       3                \n",
              "3 7844       3                \n",
              "4 1788       3                \n",
              "5 5185       5                \n",
              "6 1451       3                "
            ],
            "text/latex": "A data.frame: 6 × 10\n\\begin{tabular}{r|llllllllll}\n  & CustomerId & Channel & Region & Fresh & Milk & Grocery & Frozen & Detergents\\_Paper & Delicassen & results\\_5clusters\\\\\n  & <int> & <int> & <int> & <int> & <int> & <int> & <int> & <int> & <int> & <fct>\\\\\n\\hline\n\t1 & 1 & 2 & 3 & 12669 & 9656 & 7561 &  214 & 2674 & 1338 & 3\\\\\n\t2 & 2 & 2 & 3 &  7057 & 9810 & 9568 & 1762 & 3293 & 1776 & 3\\\\\n\t3 & 3 & 2 & 3 &  6353 & 8808 & 7684 & 2405 & 3516 & 7844 & 3\\\\\n\t4 & 4 & 1 & 3 & 13265 & 1196 & 4221 & 6404 &  507 & 1788 & 3\\\\\n\t5 & 5 & 2 & 3 & 22615 & 5410 & 7198 & 3915 & 1777 & 5185 & 5\\\\\n\t6 & 6 & 2 & 3 &  9413 & 8259 & 5126 &  666 & 1795 & 1451 & 3\\\\\n\\end{tabular}\n",
            "text/markdown": "\nA data.frame: 6 × 10\n\n| <!--/--> | CustomerId &lt;int&gt; | Channel &lt;int&gt; | Region &lt;int&gt; | Fresh &lt;int&gt; | Milk &lt;int&gt; | Grocery &lt;int&gt; | Frozen &lt;int&gt; | Detergents_Paper &lt;int&gt; | Delicassen &lt;int&gt; | results_5clusters &lt;fct&gt; |\n|---|---|---|---|---|---|---|---|---|---|---|\n| 1 | 1 | 2 | 3 | 12669 | 9656 | 7561 |  214 | 2674 | 1338 | 3 |\n| 2 | 2 | 2 | 3 |  7057 | 9810 | 9568 | 1762 | 3293 | 1776 | 3 |\n| 3 | 3 | 2 | 3 |  6353 | 8808 | 7684 | 2405 | 3516 | 7844 | 3 |\n| 4 | 4 | 1 | 3 | 13265 | 1196 | 4221 | 6404 |  507 | 1788 | 3 |\n| 5 | 5 | 2 | 3 | 22615 | 5410 | 7198 | 3915 | 1777 | 5185 | 5 |\n| 6 | 6 | 2 | 3 |  9413 | 8259 | 5126 |  666 | 1795 | 1451 | 3 |\n\n",
            "text/html": [
              "<table class=\"dataframe\">\n",
              "<caption>A data.frame: 6 × 10</caption>\n",
              "<thead>\n",
              "\t<tr><th></th><th scope=col>CustomerId</th><th scope=col>Channel</th><th scope=col>Region</th><th scope=col>Fresh</th><th scope=col>Milk</th><th scope=col>Grocery</th><th scope=col>Frozen</th><th scope=col>Detergents_Paper</th><th scope=col>Delicassen</th><th scope=col>results_5clusters</th></tr>\n",
              "\t<tr><th></th><th scope=col>&lt;int&gt;</th><th scope=col>&lt;int&gt;</th><th scope=col>&lt;int&gt;</th><th scope=col>&lt;int&gt;</th><th scope=col>&lt;int&gt;</th><th scope=col>&lt;int&gt;</th><th scope=col>&lt;int&gt;</th><th scope=col>&lt;int&gt;</th><th scope=col>&lt;int&gt;</th><th scope=col>&lt;fct&gt;</th></tr>\n",
              "</thead>\n",
              "<tbody>\n",
              "\t<tr><th scope=row>1</th><td>1</td><td>2</td><td>3</td><td>12669</td><td>9656</td><td>7561</td><td> 214</td><td>2674</td><td>1338</td><td>3</td></tr>\n",
              "\t<tr><th scope=row>2</th><td>2</td><td>2</td><td>3</td><td> 7057</td><td>9810</td><td>9568</td><td>1762</td><td>3293</td><td>1776</td><td>3</td></tr>\n",
              "\t<tr><th scope=row>3</th><td>3</td><td>2</td><td>3</td><td> 6353</td><td>8808</td><td>7684</td><td>2405</td><td>3516</td><td>7844</td><td>3</td></tr>\n",
              "\t<tr><th scope=row>4</th><td>4</td><td>1</td><td>3</td><td>13265</td><td>1196</td><td>4221</td><td>6404</td><td> 507</td><td>1788</td><td>3</td></tr>\n",
              "\t<tr><th scope=row>5</th><td>5</td><td>2</td><td>3</td><td>22615</td><td>5410</td><td>7198</td><td>3915</td><td>1777</td><td>5185</td><td>5</td></tr>\n",
              "\t<tr><th scope=row>6</th><td>6</td><td>2</td><td>3</td><td> 9413</td><td>8259</td><td>5126</td><td> 666</td><td>1795</td><td>1451</td><td>3</td></tr>\n",
              "</tbody>\n",
              "</table>\n"
            ]
          },
          "metadata": {}
        }
      ]
    },
    {
      "cell_type": "code",
      "metadata": {
        "colab": {
          "base_uri": "https://localhost:8080/",
          "height": 437
        },
        "id": "Z3VSY_SbhB4F",
        "outputId": "0920a1d3-e1c0-4356-d62d-0e0d589b3b2b"
      },
      "source": [
        "myDataClustered %>% select(Fresh, Milk, Grocery,Frozen,Detergents_Paper, Delicassen,results_5clusters) %>%\n",
        "  pivot_longer( cols = c(Fresh, Milk, Grocery,Frozen,Detergents_Paper, Delicassen), \n",
        "                names_to = \"Type\", \n",
        "                values_to = \"Amount_Spent\") %>%\n",
        "  ggplot(aes(x = Type, y = Amount_Spent, fill = results_5clusters)) +\n",
        "    geom_boxplot() "
      ],
      "execution_count": 51,
      "outputs": [
        {
          "output_type": "display_data",
          "data": {
            "image/png": "[encoded data removed]",
            "text/plain": [
              "plot without title"
            ]
          },
          "metadata": {
            "image/png": {
              "width": 420,
              "height": 420
            }
          }
        }
      ]
    },
    {
      "cell_type": "markdown",
      "metadata": {
        "id": "TTstEQ-ri8kW"
      },
      "source": [
        "5: Which *k* is the best?"
      ]
    },
    {
      "cell_type": "code",
      "metadata": {
        "id": "1jJxzyKw6J9z",
        "colab": {
          "base_uri": "https://localhost:8080/",
          "height": 51
        },
        "outputId": "aae983e5-6155-451f-d9d5-7c9579794d6d"
      },
      "source": [
        "selectedData <- select (myData,Fresh, Milk, Grocery,Frozen,Detergents_Paper, Delicassen)\n",
        "km_res <- kmeans (selectedData,centers = 3,nstart = 20)\n",
        "results_3clusters <- factor(km_res$cluster)\n",
        "head(results_3clusters)"
      ],
      "execution_count": 52,
      "outputs": [
        {
          "output_type": "display_data",
          "data": {
            "text/plain": [
              "[1] 2 2 2 2 3 2\n",
              "Levels: 1 2 3"
            ],
            "text/latex": "\\begin{enumerate*}\n\\item 2\n\\item 2\n\\item 2\n\\item 2\n\\item 3\n\\item 2\n\\end{enumerate*}\n\n\\emph{Levels}: \\begin{enumerate*}\n\\item '1'\n\\item '2'\n\\item '3'\n\\end{enumerate*}\n",
            "text/markdown": "1. 2\n2. 2\n3. 2\n4. 2\n5. 3\n6. 2\n\n\n\n**Levels**: 1. '1'\n2. '2'\n3. '3'\n\n\n",
            "text/html": [
              "<style>\n",
              ".list-inline {list-style: none; margin:0; padding: 0}\n",
              ".list-inline>li {display: inline-block}\n",
              ".list-inline>li:not(:last-child)::after {content: \"\\00b7\"; padding: 0 .5ex}\n",
              "</style>\n",
              "<ol class=list-inline><li>2</li><li>2</li><li>2</li><li>2</li><li>3</li><li>2</li></ol>\n",
              "\n",
              "<details>\n",
              "\t<summary style=display:list-item;cursor:pointer>\n",
              "\t\t<strong>Levels</strong>:\n",
              "\t</summary>\n",
              "\t<style>\n",
              "\t.list-inline {list-style: none; margin:0; padding: 0}\n",
              "\t.list-inline>li {display: inline-block}\n",
              "\t.list-inline>li:not(:last-child)::after {content: \"\\00b7\"; padding: 0 .5ex}\n",
              "\t</style>\n",
              "\t<ol class=list-inline><li>'1'</li><li>'2'</li><li>'3'</li></ol>\n",
              "</details>"
            ]
          },
          "metadata": {}
        }
      ]
    },
    {
      "cell_type": "code",
      "metadata": {
        "id": "OfNonWc36OtT",
        "colab": {
          "base_uri": "https://localhost:8080/",
          "height": 286
        },
        "outputId": "a3e817ad-0d56-4a11-c7d8-1006b22ba182"
      },
      "source": [
        "myDataClustered <- cbind(myData,results_3clusters)\n",
        "head(myDataClustered)"
      ],
      "execution_count": 53,
      "outputs": [
        {
          "output_type": "display_data",
          "data": {
            "text/plain": [
              "  CustomerId Channel Region Fresh Milk Grocery Frozen Detergents_Paper\n",
              "1 1          2       3      12669 9656 7561     214   2674            \n",
              "2 2          2       3       7057 9810 9568    1762   3293            \n",
              "3 3          2       3       6353 8808 7684    2405   3516            \n",
              "4 4          1       3      13265 1196 4221    6404    507            \n",
              "5 5          2       3      22615 5410 7198    3915   1777            \n",
              "6 6          2       3       9413 8259 5126     666   1795            \n",
              "  Delicassen results_3clusters\n",
              "1 1338       2                \n",
              "2 1776       2                \n",
              "3 7844       2                \n",
              "4 1788       2                \n",
              "5 5185       3                \n",
              "6 1451       2                "
            ],
            "text/latex": "A data.frame: 6 × 10\n\\begin{tabular}{r|llllllllll}\n  & CustomerId & Channel & Region & Fresh & Milk & Grocery & Frozen & Detergents\\_Paper & Delicassen & results\\_3clusters\\\\\n  & <int> & <int> & <int> & <int> & <int> & <int> & <int> & <int> & <int> & <fct>\\\\\n\\hline\n\t1 & 1 & 2 & 3 & 12669 & 9656 & 7561 &  214 & 2674 & 1338 & 2\\\\\n\t2 & 2 & 2 & 3 &  7057 & 9810 & 9568 & 1762 & 3293 & 1776 & 2\\\\\n\t3 & 3 & 2 & 3 &  6353 & 8808 & 7684 & 2405 & 3516 & 7844 & 2\\\\\n\t4 & 4 & 1 & 3 & 13265 & 1196 & 4221 & 6404 &  507 & 1788 & 2\\\\\n\t5 & 5 & 2 & 3 & 22615 & 5410 & 7198 & 3915 & 1777 & 5185 & 3\\\\\n\t6 & 6 & 2 & 3 &  9413 & 8259 & 5126 &  666 & 1795 & 1451 & 2\\\\\n\\end{tabular}\n",
            "text/markdown": "\nA data.frame: 6 × 10\n\n| <!--/--> | CustomerId &lt;int&gt; | Channel &lt;int&gt; | Region &lt;int&gt; | Fresh &lt;int&gt; | Milk &lt;int&gt; | Grocery &lt;int&gt; | Frozen &lt;int&gt; | Detergents_Paper &lt;int&gt; | Delicassen &lt;int&gt; | results_3clusters &lt;fct&gt; |\n|---|---|---|---|---|---|---|---|---|---|---|\n| 1 | 1 | 2 | 3 | 12669 | 9656 | 7561 |  214 | 2674 | 1338 | 2 |\n| 2 | 2 | 2 | 3 |  7057 | 9810 | 9568 | 1762 | 3293 | 1776 | 2 |\n| 3 | 3 | 2 | 3 |  6353 | 8808 | 7684 | 2405 | 3516 | 7844 | 2 |\n| 4 | 4 | 1 | 3 | 13265 | 1196 | 4221 | 6404 |  507 | 1788 | 2 |\n| 5 | 5 | 2 | 3 | 22615 | 5410 | 7198 | 3915 | 1777 | 5185 | 3 |\n| 6 | 6 | 2 | 3 |  9413 | 8259 | 5126 |  666 | 1795 | 1451 | 2 |\n\n",
            "text/html": [
              "<table class=\"dataframe\">\n",
              "<caption>A data.frame: 6 × 10</caption>\n",
              "<thead>\n",
              "\t<tr><th></th><th scope=col>CustomerId</th><th scope=col>Channel</th><th scope=col>Region</th><th scope=col>Fresh</th><th scope=col>Milk</th><th scope=col>Grocery</th><th scope=col>Frozen</th><th scope=col>Detergents_Paper</th><th scope=col>Delicassen</th><th scope=col>results_3clusters</th></tr>\n",
              "\t<tr><th></th><th scope=col>&lt;int&gt;</th><th scope=col>&lt;int&gt;</th><th scope=col>&lt;int&gt;</th><th scope=col>&lt;int&gt;</th><th scope=col>&lt;int&gt;</th><th scope=col>&lt;int&gt;</th><th scope=col>&lt;int&gt;</th><th scope=col>&lt;int&gt;</th><th scope=col>&lt;int&gt;</th><th scope=col>&lt;fct&gt;</th></tr>\n",
              "</thead>\n",
              "<tbody>\n",
              "\t<tr><th scope=row>1</th><td>1</td><td>2</td><td>3</td><td>12669</td><td>9656</td><td>7561</td><td> 214</td><td>2674</td><td>1338</td><td>2</td></tr>\n",
              "\t<tr><th scope=row>2</th><td>2</td><td>2</td><td>3</td><td> 7057</td><td>9810</td><td>9568</td><td>1762</td><td>3293</td><td>1776</td><td>2</td></tr>\n",
              "\t<tr><th scope=row>3</th><td>3</td><td>2</td><td>3</td><td> 6353</td><td>8808</td><td>7684</td><td>2405</td><td>3516</td><td>7844</td><td>2</td></tr>\n",
              "\t<tr><th scope=row>4</th><td>4</td><td>1</td><td>3</td><td>13265</td><td>1196</td><td>4221</td><td>6404</td><td> 507</td><td>1788</td><td>2</td></tr>\n",
              "\t<tr><th scope=row>5</th><td>5</td><td>2</td><td>3</td><td>22615</td><td>5410</td><td>7198</td><td>3915</td><td>1777</td><td>5185</td><td>3</td></tr>\n",
              "\t<tr><th scope=row>6</th><td>6</td><td>2</td><td>3</td><td> 9413</td><td>8259</td><td>5126</td><td> 666</td><td>1795</td><td>1451</td><td>2</td></tr>\n",
              "</tbody>\n",
              "</table>\n"
            ]
          },
          "metadata": {}
        }
      ]
    },
    {
      "cell_type": "code",
      "metadata": {
        "colab": {
          "base_uri": "https://localhost:8080/",
          "height": 437
        },
        "id": "pt0CFRndjLVh",
        "outputId": "c26a5605-f52e-4ee4-ac6f-0c7e12adbfa6"
      },
      "source": [
        "myDataClustered %>% select(CustomerId, Fresh, Milk, Grocery,Frozen,Detergents_Paper, Delicassen,results_3clusters) %>%\n",
        "  pivot_longer( cols = c(Fresh, Milk, Grocery,Frozen,Detergents_Paper, Delicassen), \n",
        "                names_to = \"Type\", \n",
        "                values_to = \"Amount_Spent\") %>%\n",
        "  ggplot(aes(x = Type, y = Amount_Spent, fill = results_3clusters)) +\n",
        "    geom_boxplot() "
      ],
      "execution_count": 54,
      "outputs": [
        {
          "output_type": "display_data",
          "data": {
            "image/png": "[encoded data removed]",
            "text/plain": [
              "plot without title"
            ]
          },
          "metadata": {
            "image/png": {
              "width": 420,
              "height": 420
            }
          }
        }
      ]
    },
    {
      "cell_type": "markdown",
      "metadata": {
        "id": "4xEoKsg_kAiA"
      },
      "source": [
        "### Exercise\n",
        "\n",
        "By using similar approach, segmentize the [`Family Income and Expenditure.csv`](https://raw.githubusercontent.com/richieyuyongpoh/Practical-R-series/main/Family%20Income%20and%20Expenditure.csv) into different groups, based on the spending habits on the following six items:\n",
        "\n",
        "\n",
        "1.   Total Rice Expenditure\n",
        "2.   Meat Expenditure\n",
        "3.   Fruit Expenditure\n",
        "4.   Bread and Cereals Expenditure\n",
        "5.   Total Fish and Marine Products Expenditure\n",
        "6.   Vegetables Expenditure\n",
        "\n",
        "Note: This dataset was downloaded from [Kaggle](https://www.kaggle.com/grosvenpaul/family-income-and-expenditure)\n",
        "\n",
        "You may also refer to this [page](https://www.richieyyptutorialpage.com/demo-r-series/household-income-and-food-expenditure) to view the dashboard.\n",
        "\n"
      ]
    },
    {
      "cell_type": "markdown",
      "metadata": {
        "id": "Mht_Y8mWk4iP"
      },
      "source": [
        "1: Read the dataset "
      ]
    },
    {
      "cell_type": "code",
      "metadata": {
        "colab": {
          "base_uri": "https://localhost:8080/",
          "height": 306
        },
        "id": "Mx3HGWShlTRL",
        "outputId": "4c54049d-b33b-4ba9-8839-1b4438c6fb61"
      },
      "source": [
        "newData <- read.csv(\"https://raw.githubusercontent.com/richieyuyongpoh/Practical-R-series/main/Family%20Income%20and%20Expenditure.csv\")\n",
        "head(newData)"
      ],
      "execution_count": 55,
      "outputs": [
        {
          "output_type": "display_data",
          "data": {
            "text/plain": [
              "  Total.Household.Income Region Total.Food.Expenditure Main.Source.of.Income\n",
              "1 480332                 CAR    117848                 Wage/Salaries        \n",
              "2 198235                 CAR     67766                 Wage/Salaries        \n",
              "3  82785                 CAR     61609                 Wage/Salaries        \n",
              "4 107589                 CAR     78189                 Wage/Salaries        \n",
              "5 189322                 CAR     94625                 Wage/Salaries        \n",
              "6 152883                 CAR     73326                 Wage/Salaries        \n",
              "  Agricultural.Household.indicator Bread.and.Cereals.Expenditure\n",
              "1 0                                42140                        \n",
              "2 0                                17329                        \n",
              "3 1                                34182                        \n",
              "4 0                                34030                        \n",
              "5 0                                34820                        \n",
              "6 0                                29065                        \n",
              "  Total.Rice.Expenditure Meat.Expenditure\n",
              "1 38300                  24676           \n",
              "2 13008                  17434           \n",
              "3 32001                   7783           \n",
              "4 28659                  10914           \n",
              "5 30167                  18391           \n",
              "6 25190                  15336           \n",
              "  Total.Fish.and..marine.products.Expenditure Fruit.Expenditure ⋯\n",
              "1 16806                                       3325              ⋯\n",
              "2 11073                                       2035              ⋯\n",
              "3  2590                                       1730              ⋯\n",
              "4 10812                                        690              ⋯\n",
              "5 11309                                       1395              ⋯\n",
              "6  8572                                       2614              ⋯\n",
              "  Number.of.Refrigerator.Freezer Number.of.Washing.Machine\n",
              "1 1                              1                        \n",
              "2 0                              1                        \n",
              "3 0                              0                        \n",
              "4 0                              0                        \n",
              "5 1                              0                        \n",
              "6 0                              1                        \n",
              "  Number.of.Airconditioner Number.of.Car..Jeep..Van\n",
              "1 0                        0                       \n",
              "2 0                        0                       \n",
              "3 0                        0                       \n",
              "4 0                        0                       \n",
              "5 0                        0                       \n",
              "6 0                        0                       \n",
              "  Number.of.Landline.wireless.telephones Number.of.Cellular.phone\n",
              "1 0                                      2                       \n",
              "2 0                                      3                       \n",
              "3 0                                      0                       \n",
              "4 0                                      1                       \n",
              "5 0                                      3                       \n",
              "6 0                                      4                       \n",
              "  Number.of.Personal.Computer Number.of.Stove.with.Oven.Gas.Range\n",
              "1 1                           0                                  \n",
              "2 1                           0                                  \n",
              "3 0                           0                                  \n",
              "4 0                           0                                  \n",
              "5 0                           0                                  \n",
              "6 0                           0                                  \n",
              "  Number.of.Motorized.Banca Number.of.Motorcycle.Tricycle\n",
              "1 0                         1                            \n",
              "2 0                         2                            \n",
              "3 0                         0                            \n",
              "4 0                         0                            \n",
              "5 0                         1                            \n",
              "6 0                         1                            "
            ],
            "text/latex": "A data.frame: 6 × 60\n\\begin{tabular}{r|lllllllllllllllllllll}\n  & Total.Household.Income & Region & Total.Food.Expenditure & Main.Source.of.Income & Agricultural.Household.indicator & Bread.and.Cereals.Expenditure & Total.Rice.Expenditure & Meat.Expenditure & Total.Fish.and..marine.products.Expenditure & Fruit.Expenditure & ⋯ & Number.of.Refrigerator.Freezer & Number.of.Washing.Machine & Number.of.Airconditioner & Number.of.Car..Jeep..Van & Number.of.Landline.wireless.telephones & Number.of.Cellular.phone & Number.of.Personal.Computer & Number.of.Stove.with.Oven.Gas.Range & Number.of.Motorized.Banca & Number.of.Motorcycle.Tricycle\\\\\n  & <int> & <chr> & <int> & <chr> & <int> & <int> & <int> & <int> & <int> & <int> & ⋯ & <int> & <int> & <int> & <int> & <int> & <int> & <int> & <int> & <int> & <int>\\\\\n\\hline\n\t1 & 480332 & CAR & 117848 & Wage/Salaries & 0 & 42140 & 38300 & 24676 & 16806 & 3325 & ⋯ & 1 & 1 & 0 & 0 & 0 & 2 & 1 & 0 & 0 & 1\\\\\n\t2 & 198235 & CAR &  67766 & Wage/Salaries & 0 & 17329 & 13008 & 17434 & 11073 & 2035 & ⋯ & 0 & 1 & 0 & 0 & 0 & 3 & 1 & 0 & 0 & 2\\\\\n\t3 &  82785 & CAR &  61609 & Wage/Salaries & 1 & 34182 & 32001 &  7783 &  2590 & 1730 & ⋯ & 0 & 0 & 0 & 0 & 0 & 0 & 0 & 0 & 0 & 0\\\\\n\t4 & 107589 & CAR &  78189 & Wage/Salaries & 0 & 34030 & 28659 & 10914 & 10812 &  690 & ⋯ & 0 & 0 & 0 & 0 & 0 & 1 & 0 & 0 & 0 & 0\\\\\n\t5 & 189322 & CAR &  94625 & Wage/Salaries & 0 & 34820 & 30167 & 18391 & 11309 & 1395 & ⋯ & 1 & 0 & 0 & 0 & 0 & 3 & 0 & 0 & 0 & 1\\\\\n\t6 & 152883 & CAR &  73326 & Wage/Salaries & 0 & 29065 & 25190 & 15336 &  8572 & 2614 & ⋯ & 0 & 1 & 0 & 0 & 0 & 4 & 0 & 0 & 0 & 1\\\\\n\\end{tabular}\n",
            "text/markdown": "\nA data.frame: 6 × 60\n\n| <!--/--> | Total.Household.Income &lt;int&gt; | Region &lt;chr&gt; | Total.Food.Expenditure &lt;int&gt; | Main.Source.of.Income &lt;chr&gt; | Agricultural.Household.indicator &lt;int&gt; | Bread.and.Cereals.Expenditure &lt;int&gt; | Total.Rice.Expenditure &lt;int&gt; | Meat.Expenditure &lt;int&gt; | Total.Fish.and..marine.products.Expenditure &lt;int&gt; | Fruit.Expenditure &lt;int&gt; | ⋯ ⋯ | Number.of.Refrigerator.Freezer &lt;int&gt; | Number.of.Washing.Machine &lt;int&gt; | Number.of.Airconditioner &lt;int&gt; | Number.of.Car..Jeep..Van &lt;int&gt; | Number.of.Landline.wireless.telephones &lt;int&gt; | Number.of.Cellular.phone &lt;int&gt; | Number.of.Personal.Computer &lt;int&gt; | Number.of.Stove.with.Oven.Gas.Range &lt;int&gt; | Number.of.Motorized.Banca &lt;int&gt; | Number.of.Motorcycle.Tricycle &lt;int&gt; |\n|---|---|---|---|---|---|---|---|---|---|---|---|---|---|---|---|---|---|---|---|---|---|\n| 1 | 480332 | CAR | 117848 | Wage/Salaries | 0 | 42140 | 38300 | 24676 | 16806 | 3325 | ⋯ | 1 | 1 | 0 | 0 | 0 | 2 | 1 | 0 | 0 | 1 |\n| 2 | 198235 | CAR |  67766 | Wage/Salaries | 0 | 17329 | 13008 | 17434 | 11073 | 2035 | ⋯ | 0 | 1 | 0 | 0 | 0 | 3 | 1 | 0 | 0 | 2 |\n| 3 |  82785 | CAR |  61609 | Wage/Salaries | 1 | 34182 | 32001 |  7783 |  2590 | 1730 | ⋯ | 0 | 0 | 0 | 0 | 0 | 0 | 0 | 0 | 0 | 0 |\n| 4 | 107589 | CAR |  78189 | Wage/Salaries | 0 | 34030 | 28659 | 10914 | 10812 |  690 | ⋯ | 0 | 0 | 0 | 0 | 0 | 1 | 0 | 0 | 0 | 0 |\n| 5 | 189322 | CAR |  94625 | Wage/Salaries | 0 | 34820 | 30167 | 18391 | 11309 | 1395 | ⋯ | 1 | 0 | 0 | 0 | 0 | 3 | 0 | 0 | 0 | 1 |\n| 6 | 152883 | CAR |  73326 | Wage/Salaries | 0 | 29065 | 25190 | 15336 |  8572 | 2614 | ⋯ | 0 | 1 | 0 | 0 | 0 | 4 | 0 | 0 | 0 | 1 |\n\n",
            "text/html": [
              "<table class=\"dataframe\">\n",
              "<caption>A data.frame: 6 × 60</caption>\n",
              "<thead>\n",
              "\t<tr><th></th><th scope=col>Total.Household.Income</th><th scope=col>Region</th><th scope=col>Total.Food.Expenditure</th><th scope=col>Main.Source.of.Income</th><th scope=col>Agricultural.Household.indicator</th><th scope=col>Bread.and.Cereals.Expenditure</th><th scope=col>Total.Rice.Expenditure</th><th scope=col>Meat.Expenditure</th><th scope=col>Total.Fish.and..marine.products.Expenditure</th><th scope=col>Fruit.Expenditure</th><th scope=col>⋯</th><th scope=col>Number.of.Refrigerator.Freezer</th><th scope=col>Number.of.Washing.Machine</th><th scope=col>Number.of.Airconditioner</th><th scope=col>Number.of.Car..Jeep..Van</th><th scope=col>Number.of.Landline.wireless.telephones</th><th scope=col>Number.of.Cellular.phone</th><th scope=col>Number.of.Personal.Computer</th><th scope=col>Number.of.Stove.with.Oven.Gas.Range</th><th scope=col>Number.of.Motorized.Banca</th><th scope=col>Number.of.Motorcycle.Tricycle</th></tr>\n",
              "\t<tr><th></th><th scope=col>&lt;int&gt;</th><th scope=col>&lt;chr&gt;</th><th scope=col>&lt;int&gt;</th><th scope=col>&lt;chr&gt;</th><th scope=col>&lt;int&gt;</th><th scope=col>&lt;int&gt;</th><th scope=col>&lt;int&gt;</th><th scope=col>&lt;int&gt;</th><th scope=col>&lt;int&gt;</th><th scope=col>&lt;int&gt;</th><th scope=col>⋯</th><th scope=col>&lt;int&gt;</th><th scope=col>&lt;int&gt;</th><th scope=col>&lt;int&gt;</th><th scope=col>&lt;int&gt;</th><th scope=col>&lt;int&gt;</th><th scope=col>&lt;int&gt;</th><th scope=col>&lt;int&gt;</th><th scope=col>&lt;int&gt;</th><th scope=col>&lt;int&gt;</th><th scope=col>&lt;int&gt;</th></tr>\n",
              "</thead>\n",
              "<tbody>\n",
              "\t<tr><th scope=row>1</th><td>480332</td><td>CAR</td><td>117848</td><td>Wage/Salaries</td><td>0</td><td>42140</td><td>38300</td><td>24676</td><td>16806</td><td>3325</td><td>⋯</td><td>1</td><td>1</td><td>0</td><td>0</td><td>0</td><td>2</td><td>1</td><td>0</td><td>0</td><td>1</td></tr>\n",
              "\t<tr><th scope=row>2</th><td>198235</td><td>CAR</td><td> 67766</td><td>Wage/Salaries</td><td>0</td><td>17329</td><td>13008</td><td>17434</td><td>11073</td><td>2035</td><td>⋯</td><td>0</td><td>1</td><td>0</td><td>0</td><td>0</td><td>3</td><td>1</td><td>0</td><td>0</td><td>2</td></tr>\n",
              "\t<tr><th scope=row>3</th><td> 82785</td><td>CAR</td><td> 61609</td><td>Wage/Salaries</td><td>1</td><td>34182</td><td>32001</td><td> 7783</td><td> 2590</td><td>1730</td><td>⋯</td><td>0</td><td>0</td><td>0</td><td>0</td><td>0</td><td>0</td><td>0</td><td>0</td><td>0</td><td>0</td></tr>\n",
              "\t<tr><th scope=row>4</th><td>107589</td><td>CAR</td><td> 78189</td><td>Wage/Salaries</td><td>0</td><td>34030</td><td>28659</td><td>10914</td><td>10812</td><td> 690</td><td>⋯</td><td>0</td><td>0</td><td>0</td><td>0</td><td>0</td><td>1</td><td>0</td><td>0</td><td>0</td><td>0</td></tr>\n",
              "\t<tr><th scope=row>5</th><td>189322</td><td>CAR</td><td> 94625</td><td>Wage/Salaries</td><td>0</td><td>34820</td><td>30167</td><td>18391</td><td>11309</td><td>1395</td><td>⋯</td><td>1</td><td>0</td><td>0</td><td>0</td><td>0</td><td>3</td><td>0</td><td>0</td><td>0</td><td>1</td></tr>\n",
              "\t<tr><th scope=row>6</th><td>152883</td><td>CAR</td><td> 73326</td><td>Wage/Salaries</td><td>0</td><td>29065</td><td>25190</td><td>15336</td><td> 8572</td><td>2614</td><td>⋯</td><td>0</td><td>1</td><td>0</td><td>0</td><td>0</td><td>4</td><td>0</td><td>0</td><td>0</td><td>1</td></tr>\n",
              "</tbody>\n",
              "</table>\n"
            ]
          },
          "metadata": {}
        }
      ]
    },
    {
      "cell_type": "markdown",
      "metadata": {
        "id": "tieXf8Mglapr"
      },
      "source": [
        "2: Explore the dataset"
      ]
    },
    {
      "cell_type": "code",
      "metadata": {
        "colab": {
          "base_uri": "https://localhost:8080/",
          "height": 1000
        },
        "id": "insT7InLlcLv",
        "outputId": "12f911ed-b13f-4b68-bdb3-fe201024e273"
      },
      "source": [
        "summary(newData)"
      ],
      "execution_count": 56,
      "outputs": [
        {
          "output_type": "display_data",
          "data": {
            "text/plain": [
              " Total.Household.Income    Region          Total.Food.Expenditure\n",
              " Min.   :   11285       Length:41544       Min.   :  2947        \n",
              " 1st Qu.:  104895       Class :character   1st Qu.: 51017        \n",
              " Median :  164080       Mode  :character   Median : 72986        \n",
              " Mean   :  247556                          Mean   : 85099        \n",
              " 3rd Qu.:  291138                          3rd Qu.:105636        \n",
              " Max.   :11815988                          Max.   :827565        \n",
              " Main.Source.of.Income Agricultural.Household.indicator\n",
              " Length:41544          Min.   :0.0000                  \n",
              " Class :character      1st Qu.:0.0000                  \n",
              " Mode  :character      Median :0.0000                  \n",
              "                       Mean   :0.4299                  \n",
              "                       3rd Qu.:1.0000                  \n",
              "                       Max.   :2.0000                  \n",
              " Bread.and.Cereals.Expenditure Total.Rice.Expenditure Meat.Expenditure\n",
              " Min.   :     0                Min.   :     0         Min.   :     0  \n",
              " 1st Qu.: 16556                1st Qu.: 11020         1st Qu.:  3354  \n",
              " Median : 23324                Median : 16620         Median :  7332  \n",
              " Mean   : 25134                Mean   : 18196         Mean   : 10540  \n",
              " 3rd Qu.: 31439                3rd Qu.: 23920         3rd Qu.: 14292  \n",
              " Max.   :765864                Max.   :758326         Max.   :261566  \n",
              " Total.Fish.and..marine.products.Expenditure Fruit.Expenditure\n",
              " Min.   :     0                              Min.   :     0   \n",
              " 1st Qu.:  5504                              1st Qu.:  1025   \n",
              " Median :  8695                              Median :  1820   \n",
              " Mean   : 10529                              Mean   :  2550   \n",
              " 3rd Qu.: 13388                              3rd Qu.:  3100   \n",
              " Max.   :188208                              Max.   :273769   \n",
              " Vegetables.Expenditure Restaurant.and.hotels.Expenditure\n",
              " Min.   :    0          Min.   :     0                   \n",
              " 1st Qu.: 2873          1st Qu.:  1930                   \n",
              " Median : 4314          Median :  7314                   \n",
              " Mean   : 5007          Mean   : 15437                   \n",
              " 3rd Qu.: 6304          3rd Qu.: 19921                   \n",
              " Max.   :74800          Max.   :725296                   \n",
              " Alcoholic.Beverages.Expenditure Tobacco.Expenditure\n",
              " Min.   :    0                   Min.   :     0     \n",
              " 1st Qu.:    0                   1st Qu.:     0     \n",
              " Median :  270                   Median :   300     \n",
              " Mean   : 1085                   Mean   :  2295     \n",
              " 3rd Qu.: 1299                   3rd Qu.:  3146     \n",
              " Max.   :59592                   Max.   :139370     \n",
              " Clothing..Footwear.and.Other.Wear.Expenditure Housing.and.water.Expenditure\n",
              " Min.   :     0                                Min.   :   1950              \n",
              " 1st Qu.:  1365                                1st Qu.:  13080              \n",
              " Median :  2740                                Median :  22992              \n",
              " Mean   :  4955                                Mean   :  38376              \n",
              " 3rd Qu.:  5580                                3rd Qu.:  45948              \n",
              " Max.   :356750                                Max.   :2188560              \n",
              " Imputed.House.Rental.Value Medical.Care.Expenditure Transportation.Expenditure\n",
              " Min.   :      0            Min.   :      0          Min.   :     0            \n",
              " 1st Qu.:   6000            1st Qu.:    300          1st Qu.:  2412            \n",
              " Median :  10800            Median :   1125          Median :  6036            \n",
              " Mean   :  20922            Mean   :   7160          Mean   : 11806            \n",
              " 3rd Qu.:  24000            3rd Qu.:   4680          3rd Qu.: 13776            \n",
              " Max.   :1920000            Max.   :1049275          Max.   :834996            \n",
              " Communication.Expenditure Education.Expenditure\n",
              " Min.   :     0            Min.   :     0       \n",
              " 1st Qu.:   564            1st Qu.:     0       \n",
              " Median :  1506            Median :   880       \n",
              " Mean   :  4095            Mean   :  7474       \n",
              " 3rd Qu.:  3900            3rd Qu.:  4060       \n",
              " Max.   :149940            Max.   :731000       \n",
              " Miscellaneous.Goods.and.Services.Expenditure Special.Occasions.Expenditure\n",
              " Min.   :     0                               Min.   :     0               \n",
              " 1st Qu.:  3792                               1st Qu.:     0               \n",
              " Median :  6804                               Median :  1500               \n",
              " Mean   : 12522                               Mean   :  5266               \n",
              " 3rd Qu.: 14154                               3rd Qu.:  5000               \n",
              " Max.   :553560                               Max.   :556700               \n",
              " Crop.Farming.and.Gardening.expenses\n",
              " Min.   :      0                    \n",
              " 1st Qu.:      0                    \n",
              " Median :      0                    \n",
              " Mean   :  13817                    \n",
              " 3rd Qu.:   6313                    \n",
              " Max.   :3729973                    \n",
              " Total.Income.from.Entrepreneurial.Acitivites Household.Head.Sex\n",
              " Min.   :      0                              Length:41544      \n",
              " 1st Qu.:      0                              Class :character  \n",
              " Median :  19222                              Mode  :character  \n",
              " Mean   :  54376                                                \n",
              " 3rd Qu.:  65969                                                \n",
              " Max.   :9234485                                                \n",
              " Household.Head.Age Household.Head.Marital.Status\n",
              " Min.   : 9.00      Length:41544                 \n",
              " 1st Qu.:41.00      Class :character             \n",
              " Median :51.00      Mode  :character             \n",
              " Mean   :51.38                                   \n",
              " 3rd Qu.:61.00                                   \n",
              " Max.   :99.00                                   \n",
              " Household.Head.Highest.Grade.Completed\n",
              " Length:41544                          \n",
              " Class :character                      \n",
              " Mode  :character                      \n",
              "                                       \n",
              "                                       \n",
              "                                       \n",
              " Household.Head.Job.or.Business.Indicator Household.Head.Occupation\n",
              " Length:41544                             Length:41544             \n",
              " Class :character                         Class :character         \n",
              " Mode  :character                         Mode  :character         \n",
              "                                                                   \n",
              "                                                                   \n",
              "                                                                   \n",
              " Household.Head.Class.of.Worker Type.of.Household \n",
              " Length:41544                   Length:41544      \n",
              " Class :character               Class :character  \n",
              " Mode  :character               Mode  :character  \n",
              "                                                  \n",
              "                                                  \n",
              "                                                  \n",
              " Total.Number.of.Family.members Members.with.age.less.than.5.year.old\n",
              " Min.   : 1.000                 Min.   :0.0000                       \n",
              " 1st Qu.: 3.000                 1st Qu.:0.0000                       \n",
              " Median : 4.000                 Median :0.0000                       \n",
              " Mean   : 4.635                 Mean   :0.4102                       \n",
              " 3rd Qu.: 6.000                 3rd Qu.:1.0000                       \n",
              " Max.   :26.000                 Max.   :5.0000                       \n",
              " Members.with.age.5...17.years.old Total.number.of.family.members.employed\n",
              " Min.   :0.000                     Min.   :0.000                          \n",
              " 1st Qu.:0.000                     1st Qu.:0.000                          \n",
              " Median :1.000                     Median :1.000                          \n",
              " Mean   :1.363                     Mean   :1.273                          \n",
              " 3rd Qu.:2.000                     3rd Qu.:2.000                          \n",
              " Max.   :8.000                     Max.   :8.000                          \n",
              " Type.of.Building.House Type.of.Roof       Type.of.Walls      House.Floor.Area\n",
              " Length:41544           Length:41544       Length:41544       Min.   :  5.0   \n",
              " Class :character       Class :character   Class :character   1st Qu.: 25.0   \n",
              " Mode  :character       Mode  :character   Mode  :character   Median : 40.0   \n",
              "                                                              Mean   : 55.6   \n",
              "                                                              3rd Qu.: 70.0   \n",
              "                                                              Max.   :998.0   \n",
              "   House.Age      Number.of.bedrooms Tenure.Status      Toilet.Facilities \n",
              " Min.   :  0.00   Min.   :0.000      Length:41544       Length:41544      \n",
              " 1st Qu.: 10.00   1st Qu.:1.000      Class :character   Class :character  \n",
              " Median : 17.00   Median :2.000      Mode  :character   Mode  :character  \n",
              " Mean   : 20.13   Mean   :1.788                                           \n",
              " 3rd Qu.: 26.00   3rd Qu.:2.000                                           \n",
              " Max.   :200.00   Max.   :9.000                                           \n",
              "  Electricity     Main.Source.of.Water.Supply Number.of.Television\n",
              " Min.   :0.0000   Length:41544                Min.   :0.0000      \n",
              " 1st Qu.:1.0000   Class :character            1st Qu.:0.0000      \n",
              " Median :1.0000   Mode  :character            Median :1.0000      \n",
              " Mean   :0.8908                               Mean   :0.8569      \n",
              " 3rd Qu.:1.0000                               3rd Qu.:1.0000      \n",
              " Max.   :1.0000                               Max.   :6.0000      \n",
              " Number.of.CD.VCD.DVD Number.of.Component.Stereo.set\n",
              " Min.   :0.0000       Min.   :0.0000                \n",
              " 1st Qu.:0.0000       1st Qu.:0.0000                \n",
              " Median :0.0000       Median :0.0000                \n",
              " Mean   :0.4352       Mean   :0.1621                \n",
              " 3rd Qu.:1.0000       3rd Qu.:0.0000                \n",
              " Max.   :5.0000       Max.   :5.0000                \n",
              " Number.of.Refrigerator.Freezer Number.of.Washing.Machine\n",
              " Min.   :0.0000                 Min.   :0.0000           \n",
              " 1st Qu.:0.0000                 1st Qu.:0.0000           \n",
              " Median :0.0000                 Median :0.0000           \n",
              " Mean   :0.3942                 Mean   :0.3198           \n",
              " 3rd Qu.:1.0000                 3rd Qu.:1.0000           \n",
              " Max.   :5.0000                 Max.   :3.0000           \n",
              " Number.of.Airconditioner Number.of.Car..Jeep..Van\n",
              " Min.   :0.0000           Min.   :0.00000         \n",
              " 1st Qu.:0.0000           1st Qu.:0.00000         \n",
              " Median :0.0000           Median :0.00000         \n",
              " Mean   :0.1298           Mean   :0.08121         \n",
              " 3rd Qu.:0.0000           3rd Qu.:0.00000         \n",
              " Max.   :5.0000           Max.   :5.00000         \n",
              " Number.of.Landline.wireless.telephones Number.of.Cellular.phone\n",
              " Min.   :0.00000                        Min.   : 0.000          \n",
              " 1st Qu.:0.00000                        1st Qu.: 1.000          \n",
              " Median :0.00000                        Median : 2.000          \n",
              " Mean   :0.06061                        Mean   : 1.906          \n",
              " 3rd Qu.:0.00000                        3rd Qu.: 3.000          \n",
              " Max.   :4.00000                        Max.   :10.000          \n",
              " Number.of.Personal.Computer Number.of.Stove.with.Oven.Gas.Range\n",
              " Min.   :0.000               Min.   :0.000                      \n",
              " 1st Qu.:0.000               1st Qu.:0.000                      \n",
              " Median :0.000               Median :0.000                      \n",
              " Mean   :0.315               Mean   :0.135                      \n",
              " 3rd Qu.:0.000               3rd Qu.:0.000                      \n",
              " Max.   :6.000               Max.   :3.000                      \n",
              " Number.of.Motorized.Banca Number.of.Motorcycle.Tricycle\n",
              " Min.   :0.00000           Min.   :0.0000               \n",
              " 1st Qu.:0.00000           1st Qu.:0.0000               \n",
              " Median :0.00000           Median :0.0000               \n",
              " Mean   :0.01312           Mean   :0.2899               \n",
              " 3rd Qu.:0.00000           3rd Qu.:0.0000               \n",
              " Max.   :3.00000           Max.   :5.0000               "
            ]
          },
          "metadata": {}
        }
      ]
    },
    {
      "cell_type": "markdown",
      "metadata": {
        "id": "q20S9yGpldq-"
      },
      "source": [
        "3: Continue the steps"
      ]
    },
    {
      "cell_type": "code",
      "metadata": {
        "colab": {
          "base_uri": "https://localhost:8080/",
          "height": 1000
        },
        "id": "L9w3E9qgl56l",
        "outputId": "3eb0a2bf-0791-47e6-9808-1c082326c376"
      },
      "source": [
        "# Write your codes here\n",
        "\n",
        "newData %>% select(Bread.and.Cereals.Expenditure,\n",
        "                   Total.Rice.Expenditure,\n",
        "                    Meat.Expenditure,\n",
        "                    Total.Fish.and..marine.products.Expenditure,\n",
        "                    Fruit.Expenditure,\n",
        "                    Vegetables.Expenditure\n",
        "                    )\n",
        "\n",
        "# Edit the template codes and continue with your codes"
      ],
      "execution_count": 57,
      "outputs": [
        {
          "output_type": "display_data",
          "data": {
            "text/plain": [
              "      Bread.and.Cereals.Expenditure Total.Rice.Expenditure Meat.Expenditure\n",
              "1     42140                         38300                  24676           \n",
              "2     17329                         13008                  17434           \n",
              "3     34182                         32001                   7783           \n",
              "4     34030                         28659                  10914           \n",
              "5     34820                         30167                  18391           \n",
              "6     29065                         25190                  15336           \n",
              "7     40992                         36312                  12968           \n",
              "8     37168                         28156                  14640           \n",
              "9     23117                         15845                  11464           \n",
              "10    56003                         43239                  26488           \n",
              "11    36588                         30167                  11174           \n",
              "12    46521                         39217                  20548           \n",
              "13    40531                         36200                  14322           \n",
              "14    26874                         23130                  10034           \n",
              "15    19668                         16142                   5430           \n",
              "16    30594                         26788                  10336           \n",
              "17    41701                         36200                  11226           \n",
              "18    44006                         38213                   9840           \n",
              "19    31984                         28659                   8048           \n",
              "20    27283                         22503                  10162           \n",
              "21    32692                         28520                   6638           \n",
              "22    32678                         28964                   7510           \n",
              "23    43076                         38372                  11884           \n",
              "24    30820                         27150                   8276           \n",
              "25    18215                         16078                   9562           \n",
              "26    19491                         15928                  12557           \n",
              "27    15843                         14118                   7937           \n",
              "28    29144                         22565                  15591           \n",
              "29    41313                         36563                  15018           \n",
              "30    34152                         28252                  12006           \n",
              "⋮     ⋮                             ⋮                      ⋮               \n",
              "41515 11196                          9786                   2214           \n",
              "41516 21142                         18212                   3246           \n",
              "41517 34481                         28598                   3604           \n",
              "41518 21796                         19602                   3554           \n",
              "41519 16396                         14299                    803           \n",
              "41520  8196                          6006                   2496           \n",
              "41521 42972                         35484                  10892           \n",
              "41522 22668                         17370                   5085           \n",
              "41523 24887                         21336                   3181           \n",
              "41524 27537                         23820                   7760           \n",
              "41525 36724                         33404                   2245           \n",
              "41526 34024                         28676                   1475           \n",
              "41527 33240                         28312                   1545           \n",
              "41528 55041                         45738                   5160           \n",
              "41529 23438                         18504                   2206           \n",
              "41530 29676                         25296                   1445           \n",
              "41531 20692                         17887                   1515           \n",
              "41532 35120                         27327                   5273           \n",
              "41533 46354                         37564                   9928           \n",
              "41534 20025                         14547                   4532           \n",
              "41535 24304                         18160                   2248           \n",
              "41536 23658                         20118                   4406           \n",
              "41537 19693                         15918                   9145           \n",
              "41538 18441                         15424                   2017           \n",
              "41539 28563                         23457                   4728           \n",
              "41540 23675                         21542                   1476           \n",
              "41541  2691                          1273                   1886           \n",
              "41542 28646                         27339                    480           \n",
              "41543 29996                         26655                   2359           \n",
              "41544 43485                         41205                   1985           \n",
              "      Total.Fish.and..marine.products.Expenditure Fruit.Expenditure\n",
              "1     16806                                       3325             \n",
              "2     11073                                       2035             \n",
              "3      2590                                       1730             \n",
              "4     10812                                        690             \n",
              "5     11309                                       1395             \n",
              "6      8572                                       2614             \n",
              "7     12310                                       2565             \n",
              "8     15896                                       3365             \n",
              "9      6685                                       1370             \n",
              "10    25678                                       3880             \n",
              "11     7674                                       1709             \n",
              "12    15841                                       1475             \n",
              "13     8344                                       2200             \n",
              "14     6971                                       2350             \n",
              "15     6670                                       1860             \n",
              "16     7900                                       1503             \n",
              "17     8806                                       1434             \n",
              "18     9317                                       1231             \n",
              "19     7625                                       1625             \n",
              "20    12370                                       2380             \n",
              "21    11734                                       2120             \n",
              "22     7746                                       1410             \n",
              "23    15699                                       4510             \n",
              "24     9565                                       1490             \n",
              "25     7555                                       1550             \n",
              "26     9245                                       1710             \n",
              "27     9160                                       1470             \n",
              "28    12229                                       2120             \n",
              "29    11071                                       2210             \n",
              "30     9480                                       1785             \n",
              "⋮     ⋮                                           ⋮                \n",
              "41515  3719                                        445             \n",
              "41516  5464                                        925             \n",
              "41517  4479                                        777             \n",
              "41518 13826                                       1527             \n",
              "41519  2028                                       1318             \n",
              "41520  3860                                        856             \n",
              "41521 17784                                       2400             \n",
              "41522 12217                                       4804             \n",
              "41523  8003                                       1240             \n",
              "41524  9823                                       6721             \n",
              "41525  5998                                        925             \n",
              "41526  8283                                       1500             \n",
              "41527  5710                                       1727             \n",
              "41528 19000                                       2360             \n",
              "41529  8543                                       2718             \n",
              "41530 11415                                       2002             \n",
              "41531 10655                                       1917             \n",
              "41532 11487                                       6372             \n",
              "41533 20465                                       2876             \n",
              "41534  8739                                       2837             \n",
              "41535 17306                                       3255             \n",
              "41536 23539                                       3899             \n",
              "41537 20584                                       3068             \n",
              "41538 10623                                       1683             \n",
              "41539 12496                                       3508             \n",
              "41540  6120                                       1632             \n",
              "41541  4386                                       1840             \n",
              "41542  4796                                       1232             \n",
              "41543 17730                                       2923             \n",
              "41544  7735                                       2062             \n",
              "      Vegetables.Expenditure\n",
              "1     13460                 \n",
              "2      7833                 \n",
              "3      3795                 \n",
              "4      7887                 \n",
              "5     11260                 \n",
              "6      9035                 \n",
              "7     15620                 \n",
              "8     10520                 \n",
              "9      5235                 \n",
              "10    11360                 \n",
              "11     7920                 \n",
              "12     7565                 \n",
              "13     6790                 \n",
              "14     7770                 \n",
              "15     6410                 \n",
              "16     6819                 \n",
              "17     6408                 \n",
              "18     7265                 \n",
              "19     6085                 \n",
              "20     8190                 \n",
              "21     6100                 \n",
              "22     4730                 \n",
              "23     5015                 \n",
              "24     4535                 \n",
              "25     4988                 \n",
              "26     4495                 \n",
              "27     5330                 \n",
              "28     3990                 \n",
              "29     5190                 \n",
              "30     5830                 \n",
              "⋮     ⋮                     \n",
              "41515  2315                 \n",
              "41516  2579                 \n",
              "41517  3424                 \n",
              "41518 10330                 \n",
              "41519  2393                 \n",
              "41520  2520                 \n",
              "41521 11404                 \n",
              "41522  5345                 \n",
              "41523  6130                 \n",
              "41524  5693                 \n",
              "41525  5630                 \n",
              "41526  8394                 \n",
              "41527  8574                 \n",
              "41528  7801                 \n",
              "41529 10700                 \n",
              "41530  9586                 \n",
              "41531  7779                 \n",
              "41532 11987                 \n",
              "41533 12408                 \n",
              "41534  9561                 \n",
              "41535  9183                 \n",
              "41536 10730                 \n",
              "41537  8172                 \n",
              "41538  8428                 \n",
              "41539  9234                 \n",
              "41540  3882                 \n",
              "41541  3110                 \n",
              "41542  3025                 \n",
              "41543  7951                 \n",
              "41544  7114                 "
            ],
            "text/latex": "A data.frame: 41544 × 6\n\\begin{tabular}{llllll}\n Bread.and.Cereals.Expenditure & Total.Rice.Expenditure & Meat.Expenditure & Total.Fish.and..marine.products.Expenditure & Fruit.Expenditure & Vegetables.Expenditure\\\\\n <int> & <int> & <int> & <int> & <int> & <int>\\\\\n\\hline\n\t 42140 & 38300 & 24676 & 16806 & 3325 & 13460\\\\\n\t 17329 & 13008 & 17434 & 11073 & 2035 &  7833\\\\\n\t 34182 & 32001 &  7783 &  2590 & 1730 &  3795\\\\\n\t 34030 & 28659 & 10914 & 10812 &  690 &  7887\\\\\n\t 34820 & 30167 & 18391 & 11309 & 1395 & 11260\\\\\n\t 29065 & 25190 & 15336 &  8572 & 2614 &  9035\\\\\n\t 40992 & 36312 & 12968 & 12310 & 2565 & 15620\\\\\n\t 37168 & 28156 & 14640 & 15896 & 3365 & 10520\\\\\n\t 23117 & 15845 & 11464 &  6685 & 1370 &  5235\\\\\n\t 56003 & 43239 & 26488 & 25678 & 3880 & 11360\\\\\n\t 36588 & 30167 & 11174 &  7674 & 1709 &  7920\\\\\n\t 46521 & 39217 & 20548 & 15841 & 1475 &  7565\\\\\n\t 40531 & 36200 & 14322 &  8344 & 2200 &  6790\\\\\n\t 26874 & 23130 & 10034 &  6971 & 2350 &  7770\\\\\n\t 19668 & 16142 &  5430 &  6670 & 1860 &  6410\\\\\n\t 30594 & 26788 & 10336 &  7900 & 1503 &  6819\\\\\n\t 41701 & 36200 & 11226 &  8806 & 1434 &  6408\\\\\n\t 44006 & 38213 &  9840 &  9317 & 1231 &  7265\\\\\n\t 31984 & 28659 &  8048 &  7625 & 1625 &  6085\\\\\n\t 27283 & 22503 & 10162 & 12370 & 2380 &  8190\\\\\n\t 32692 & 28520 &  6638 & 11734 & 2120 &  6100\\\\\n\t 32678 & 28964 &  7510 &  7746 & 1410 &  4730\\\\\n\t 43076 & 38372 & 11884 & 15699 & 4510 &  5015\\\\\n\t 30820 & 27150 &  8276 &  9565 & 1490 &  4535\\\\\n\t 18215 & 16078 &  9562 &  7555 & 1550 &  4988\\\\\n\t 19491 & 15928 & 12557 &  9245 & 1710 &  4495\\\\\n\t 15843 & 14118 &  7937 &  9160 & 1470 &  5330\\\\\n\t 29144 & 22565 & 15591 & 12229 & 2120 &  3990\\\\\n\t 41313 & 36563 & 15018 & 11071 & 2210 &  5190\\\\\n\t 34152 & 28252 & 12006 &  9480 & 1785 &  5830\\\\\n\t ⋮ & ⋮ & ⋮ & ⋮ & ⋮ & ⋮\\\\\n\t 11196 &  9786 &  2214 &  3719 &  445 &  2315\\\\\n\t 21142 & 18212 &  3246 &  5464 &  925 &  2579\\\\\n\t 34481 & 28598 &  3604 &  4479 &  777 &  3424\\\\\n\t 21796 & 19602 &  3554 & 13826 & 1527 & 10330\\\\\n\t 16396 & 14299 &   803 &  2028 & 1318 &  2393\\\\\n\t  8196 &  6006 &  2496 &  3860 &  856 &  2520\\\\\n\t 42972 & 35484 & 10892 & 17784 & 2400 & 11404\\\\\n\t 22668 & 17370 &  5085 & 12217 & 4804 &  5345\\\\\n\t 24887 & 21336 &  3181 &  8003 & 1240 &  6130\\\\\n\t 27537 & 23820 &  7760 &  9823 & 6721 &  5693\\\\\n\t 36724 & 33404 &  2245 &  5998 &  925 &  5630\\\\\n\t 34024 & 28676 &  1475 &  8283 & 1500 &  8394\\\\\n\t 33240 & 28312 &  1545 &  5710 & 1727 &  8574\\\\\n\t 55041 & 45738 &  5160 & 19000 & 2360 &  7801\\\\\n\t 23438 & 18504 &  2206 &  8543 & 2718 & 10700\\\\\n\t 29676 & 25296 &  1445 & 11415 & 2002 &  9586\\\\\n\t 20692 & 17887 &  1515 & 10655 & 1917 &  7779\\\\\n\t 35120 & 27327 &  5273 & 11487 & 6372 & 11987\\\\\n\t 46354 & 37564 &  9928 & 20465 & 2876 & 12408\\\\\n\t 20025 & 14547 &  4532 &  8739 & 2837 &  9561\\\\\n\t 24304 & 18160 &  2248 & 17306 & 3255 &  9183\\\\\n\t 23658 & 20118 &  4406 & 23539 & 3899 & 10730\\\\\n\t 19693 & 15918 &  9145 & 20584 & 3068 &  8172\\\\\n\t 18441 & 15424 &  2017 & 10623 & 1683 &  8428\\\\\n\t 28563 & 23457 &  4728 & 12496 & 3508 &  9234\\\\\n\t 23675 & 21542 &  1476 &  6120 & 1632 &  3882\\\\\n\t  2691 &  1273 &  1886 &  4386 & 1840 &  3110\\\\\n\t 28646 & 27339 &   480 &  4796 & 1232 &  3025\\\\\n\t 29996 & 26655 &  2359 & 17730 & 2923 &  7951\\\\\n\t 43485 & 41205 &  1985 &  7735 & 2062 &  7114\\\\\n\\end{tabular}\n",
            "text/markdown": "\nA data.frame: 41544 × 6\n\n| Bread.and.Cereals.Expenditure &lt;int&gt; | Total.Rice.Expenditure &lt;int&gt; | Meat.Expenditure &lt;int&gt; | Total.Fish.and..marine.products.Expenditure &lt;int&gt; | Fruit.Expenditure &lt;int&gt; | Vegetables.Expenditure &lt;int&gt; |\n|---|---|---|---|---|---|\n| 42140 | 38300 | 24676 | 16806 | 3325 | 13460 |\n| 17329 | 13008 | 17434 | 11073 | 2035 |  7833 |\n| 34182 | 32001 |  7783 |  2590 | 1730 |  3795 |\n| 34030 | 28659 | 10914 | 10812 |  690 |  7887 |\n| 34820 | 30167 | 18391 | 11309 | 1395 | 11260 |\n| 29065 | 25190 | 15336 |  8572 | 2614 |  9035 |\n| 40992 | 36312 | 12968 | 12310 | 2565 | 15620 |\n| 37168 | 28156 | 14640 | 15896 | 3365 | 10520 |\n| 23117 | 15845 | 11464 |  6685 | 1370 |  5235 |\n| 56003 | 43239 | 26488 | 25678 | 3880 | 11360 |\n| 36588 | 30167 | 11174 |  7674 | 1709 |  7920 |\n| 46521 | 39217 | 20548 | 15841 | 1475 |  7565 |\n| 40531 | 36200 | 14322 |  8344 | 2200 |  6790 |\n| 26874 | 23130 | 10034 |  6971 | 2350 |  7770 |\n| 19668 | 16142 |  5430 |  6670 | 1860 |  6410 |\n| 30594 | 26788 | 10336 |  7900 | 1503 |  6819 |\n| 41701 | 36200 | 11226 |  8806 | 1434 |  6408 |\n| 44006 | 38213 |  9840 |  9317 | 1231 |  7265 |\n| 31984 | 28659 |  8048 |  7625 | 1625 |  6085 |\n| 27283 | 22503 | 10162 | 12370 | 2380 |  8190 |\n| 32692 | 28520 |  6638 | 11734 | 2120 |  6100 |\n| 32678 | 28964 |  7510 |  7746 | 1410 |  4730 |\n| 43076 | 38372 | 11884 | 15699 | 4510 |  5015 |\n| 30820 | 27150 |  8276 |  9565 | 1490 |  4535 |\n| 18215 | 16078 |  9562 |  7555 | 1550 |  4988 |\n| 19491 | 15928 | 12557 |  9245 | 1710 |  4495 |\n| 15843 | 14118 |  7937 |  9160 | 1470 |  5330 |\n| 29144 | 22565 | 15591 | 12229 | 2120 |  3990 |\n| 41313 | 36563 | 15018 | 11071 | 2210 |  5190 |\n| 34152 | 28252 | 12006 |  9480 | 1785 |  5830 |\n| ⋮ | ⋮ | ⋮ | ⋮ | ⋮ | ⋮ |\n| 11196 |  9786 |  2214 |  3719 |  445 |  2315 |\n| 21142 | 18212 |  3246 |  5464 |  925 |  2579 |\n| 34481 | 28598 |  3604 |  4479 |  777 |  3424 |\n| 21796 | 19602 |  3554 | 13826 | 1527 | 10330 |\n| 16396 | 14299 |   803 |  2028 | 1318 |  2393 |\n|  8196 |  6006 |  2496 |  3860 |  856 |  2520 |\n| 42972 | 35484 | 10892 | 17784 | 2400 | 11404 |\n| 22668 | 17370 |  5085 | 12217 | 4804 |  5345 |\n| 24887 | 21336 |  3181 |  8003 | 1240 |  6130 |\n| 27537 | 23820 |  7760 |  9823 | 6721 |  5693 |\n| 36724 | 33404 |  2245 |  5998 |  925 |  5630 |\n| 34024 | 28676 |  1475 |  8283 | 1500 |  8394 |\n| 33240 | 28312 |  1545 |  5710 | 1727 |  8574 |\n| 55041 | 45738 |  5160 | 19000 | 2360 |  7801 |\n| 23438 | 18504 |  2206 |  8543 | 2718 | 10700 |\n| 29676 | 25296 |  1445 | 11415 | 2002 |  9586 |\n| 20692 | 17887 |  1515 | 10655 | 1917 |  7779 |\n| 35120 | 27327 |  5273 | 11487 | 6372 | 11987 |\n| 46354 | 37564 |  9928 | 20465 | 2876 | 12408 |\n| 20025 | 14547 |  4532 |  8739 | 2837 |  9561 |\n| 24304 | 18160 |  2248 | 17306 | 3255 |  9183 |\n| 23658 | 20118 |  4406 | 23539 | 3899 | 10730 |\n| 19693 | 15918 |  9145 | 20584 | 3068 |  8172 |\n| 18441 | 15424 |  2017 | 10623 | 1683 |  8428 |\n| 28563 | 23457 |  4728 | 12496 | 3508 |  9234 |\n| 23675 | 21542 |  1476 |  6120 | 1632 |  3882 |\n|  2691 |  1273 |  1886 |  4386 | 1840 |  3110 |\n| 28646 | 27339 |   480 |  4796 | 1232 |  3025 |\n| 29996 | 26655 |  2359 | 17730 | 2923 |  7951 |\n| 43485 | 41205 |  1985 |  7735 | 2062 |  7114 |\n\n",
            "text/html": [
              "<table class=\"dataframe\">\n",
              "<caption>A data.frame: 41544 × 6</caption>\n",
              "<thead>\n",
              "\t<tr><th scope=col>Bread.and.Cereals.Expenditure</th><th scope=col>Total.Rice.Expenditure</th><th scope=col>Meat.Expenditure</th><th scope=col>Total.Fish.and..marine.products.Expenditure</th><th scope=col>Fruit.Expenditure</th><th scope=col>Vegetables.Expenditure</th></tr>\n",
              "\t<tr><th scope=col>&lt;int&gt;</th><th scope=col>&lt;int&gt;</th><th scope=col>&lt;int&gt;</th><th scope=col>&lt;int&gt;</th><th scope=col>&lt;int&gt;</th><th scope=col>&lt;int&gt;</th></tr>\n",
              "</thead>\n",
              "<tbody>\n",
              "\t<tr><td>42140</td><td>38300</td><td>24676</td><td>16806</td><td>3325</td><td>13460</td></tr>\n",
              "\t<tr><td>17329</td><td>13008</td><td>17434</td><td>11073</td><td>2035</td><td> 7833</td></tr>\n",
              "\t<tr><td>34182</td><td>32001</td><td> 7783</td><td> 2590</td><td>1730</td><td> 3795</td></tr>\n",
              "\t<tr><td>34030</td><td>28659</td><td>10914</td><td>10812</td><td> 690</td><td> 7887</td></tr>\n",
              "\t<tr><td>34820</td><td>30167</td><td>18391</td><td>11309</td><td>1395</td><td>11260</td></tr>\n",
              "\t<tr><td>29065</td><td>25190</td><td>15336</td><td> 8572</td><td>2614</td><td> 9035</td></tr>\n",
              "\t<tr><td>40992</td><td>36312</td><td>12968</td><td>12310</td><td>2565</td><td>15620</td></tr>\n",
              "\t<tr><td>37168</td><td>28156</td><td>14640</td><td>15896</td><td>3365</td><td>10520</td></tr>\n",
              "\t<tr><td>23117</td><td>15845</td><td>11464</td><td> 6685</td><td>1370</td><td> 5235</td></tr>\n",
              "\t<tr><td>56003</td><td>43239</td><td>26488</td><td>25678</td><td>3880</td><td>11360</td></tr>\n",
              "\t<tr><td>36588</td><td>30167</td><td>11174</td><td> 7674</td><td>1709</td><td> 7920</td></tr>\n",
              "\t<tr><td>46521</td><td>39217</td><td>20548</td><td>15841</td><td>1475</td><td> 7565</td></tr>\n",
              "\t<tr><td>40531</td><td>36200</td><td>14322</td><td> 8344</td><td>2200</td><td> 6790</td></tr>\n",
              "\t<tr><td>26874</td><td>23130</td><td>10034</td><td> 6971</td><td>2350</td><td> 7770</td></tr>\n",
              "\t<tr><td>19668</td><td>16142</td><td> 5430</td><td> 6670</td><td>1860</td><td> 6410</td></tr>\n",
              "\t<tr><td>30594</td><td>26788</td><td>10336</td><td> 7900</td><td>1503</td><td> 6819</td></tr>\n",
              "\t<tr><td>41701</td><td>36200</td><td>11226</td><td> 8806</td><td>1434</td><td> 6408</td></tr>\n",
              "\t<tr><td>44006</td><td>38213</td><td> 9840</td><td> 9317</td><td>1231</td><td> 7265</td></tr>\n",
              "\t<tr><td>31984</td><td>28659</td><td> 8048</td><td> 7625</td><td>1625</td><td> 6085</td></tr>\n",
              "\t<tr><td>27283</td><td>22503</td><td>10162</td><td>12370</td><td>2380</td><td> 8190</td></tr>\n",
              "\t<tr><td>32692</td><td>28520</td><td> 6638</td><td>11734</td><td>2120</td><td> 6100</td></tr>\n",
              "\t<tr><td>32678</td><td>28964</td><td> 7510</td><td> 7746</td><td>1410</td><td> 4730</td></tr>\n",
              "\t<tr><td>43076</td><td>38372</td><td>11884</td><td>15699</td><td>4510</td><td> 5015</td></tr>\n",
              "\t<tr><td>30820</td><td>27150</td><td> 8276</td><td> 9565</td><td>1490</td><td> 4535</td></tr>\n",
              "\t<tr><td>18215</td><td>16078</td><td> 9562</td><td> 7555</td><td>1550</td><td> 4988</td></tr>\n",
              "\t<tr><td>19491</td><td>15928</td><td>12557</td><td> 9245</td><td>1710</td><td> 4495</td></tr>\n",
              "\t<tr><td>15843</td><td>14118</td><td> 7937</td><td> 9160</td><td>1470</td><td> 5330</td></tr>\n",
              "\t<tr><td>29144</td><td>22565</td><td>15591</td><td>12229</td><td>2120</td><td> 3990</td></tr>\n",
              "\t<tr><td>41313</td><td>36563</td><td>15018</td><td>11071</td><td>2210</td><td> 5190</td></tr>\n",
              "\t<tr><td>34152</td><td>28252</td><td>12006</td><td> 9480</td><td>1785</td><td> 5830</td></tr>\n",
              "\t<tr><td>⋮</td><td>⋮</td><td>⋮</td><td>⋮</td><td>⋮</td><td>⋮</td></tr>\n",
              "\t<tr><td>11196</td><td> 9786</td><td> 2214</td><td> 3719</td><td> 445</td><td> 2315</td></tr>\n",
              "\t<tr><td>21142</td><td>18212</td><td> 3246</td><td> 5464</td><td> 925</td><td> 2579</td></tr>\n",
              "\t<tr><td>34481</td><td>28598</td><td> 3604</td><td> 4479</td><td> 777</td><td> 3424</td></tr>\n",
              "\t<tr><td>21796</td><td>19602</td><td> 3554</td><td>13826</td><td>1527</td><td>10330</td></tr>\n",
              "\t<tr><td>16396</td><td>14299</td><td>  803</td><td> 2028</td><td>1318</td><td> 2393</td></tr>\n",
              "\t<tr><td> 8196</td><td> 6006</td><td> 2496</td><td> 3860</td><td> 856</td><td> 2520</td></tr>\n",
              "\t<tr><td>42972</td><td>35484</td><td>10892</td><td>17784</td><td>2400</td><td>11404</td></tr>\n",
              "\t<tr><td>22668</td><td>17370</td><td> 5085</td><td>12217</td><td>4804</td><td> 5345</td></tr>\n",
              "\t<tr><td>24887</td><td>21336</td><td> 3181</td><td> 8003</td><td>1240</td><td> 6130</td></tr>\n",
              "\t<tr><td>27537</td><td>23820</td><td> 7760</td><td> 9823</td><td>6721</td><td> 5693</td></tr>\n",
              "\t<tr><td>36724</td><td>33404</td><td> 2245</td><td> 5998</td><td> 925</td><td> 5630</td></tr>\n",
              "\t<tr><td>34024</td><td>28676</td><td> 1475</td><td> 8283</td><td>1500</td><td> 8394</td></tr>\n",
              "\t<tr><td>33240</td><td>28312</td><td> 1545</td><td> 5710</td><td>1727</td><td> 8574</td></tr>\n",
              "\t<tr><td>55041</td><td>45738</td><td> 5160</td><td>19000</td><td>2360</td><td> 7801</td></tr>\n",
              "\t<tr><td>23438</td><td>18504</td><td> 2206</td><td> 8543</td><td>2718</td><td>10700</td></tr>\n",
              "\t<tr><td>29676</td><td>25296</td><td> 1445</td><td>11415</td><td>2002</td><td> 9586</td></tr>\n",
              "\t<tr><td>20692</td><td>17887</td><td> 1515</td><td>10655</td><td>1917</td><td> 7779</td></tr>\n",
              "\t<tr><td>35120</td><td>27327</td><td> 5273</td><td>11487</td><td>6372</td><td>11987</td></tr>\n",
              "\t<tr><td>46354</td><td>37564</td><td> 9928</td><td>20465</td><td>2876</td><td>12408</td></tr>\n",
              "\t<tr><td>20025</td><td>14547</td><td> 4532</td><td> 8739</td><td>2837</td><td> 9561</td></tr>\n",
              "\t<tr><td>24304</td><td>18160</td><td> 2248</td><td>17306</td><td>3255</td><td> 9183</td></tr>\n",
              "\t<tr><td>23658</td><td>20118</td><td> 4406</td><td>23539</td><td>3899</td><td>10730</td></tr>\n",
              "\t<tr><td>19693</td><td>15918</td><td> 9145</td><td>20584</td><td>3068</td><td> 8172</td></tr>\n",
              "\t<tr><td>18441</td><td>15424</td><td> 2017</td><td>10623</td><td>1683</td><td> 8428</td></tr>\n",
              "\t<tr><td>28563</td><td>23457</td><td> 4728</td><td>12496</td><td>3508</td><td> 9234</td></tr>\n",
              "\t<tr><td>23675</td><td>21542</td><td> 1476</td><td> 6120</td><td>1632</td><td> 3882</td></tr>\n",
              "\t<tr><td> 2691</td><td> 1273</td><td> 1886</td><td> 4386</td><td>1840</td><td> 3110</td></tr>\n",
              "\t<tr><td>28646</td><td>27339</td><td>  480</td><td> 4796</td><td>1232</td><td> 3025</td></tr>\n",
              "\t<tr><td>29996</td><td>26655</td><td> 2359</td><td>17730</td><td>2923</td><td> 7951</td></tr>\n",
              "\t<tr><td>43485</td><td>41205</td><td> 1985</td><td> 7735</td><td>2062</td><td> 7114</td></tr>\n",
              "</tbody>\n",
              "</table>\n"
            ]
          },
          "metadata": {}
        }
      ]
    },
    {
      "cell_type": "markdown",
      "metadata": {
        "id": "wdeapmuqoqdS"
      },
      "source": [
        "4: What are your findings/insights? "
      ]
    }
  ]
}