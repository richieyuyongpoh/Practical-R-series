{
  "nbformat": 4,
  "nbformat_minor": 0,
  "metadata": {
    "colab": {
      "name": "Basic Building Blocks.ipynb",
      "provenance": [],
      "collapsed_sections": [],
      "toc_visible": true,
      "include_colab_link": true
    },
    "kernelspec": {
      "name": "ir",
      "display_name": "R"
    }
  },
  "cells": [
    {
      "cell_type": "markdown",
      "metadata": {
        "id": "view-in-github",
        "colab_type": "text"
      },
      "source": [
        "<a href=\"https://colab.research.google.com/github/richieyuyongpoh/Practical-R-series/blob/main/Basic_Building_Blocks.ipynb\" target=\"_parent\"><img src=\"https://colab.research.google.com/assets/colab-badge.svg\" alt=\"Open In Colab\"/></a>"
      ]
    },
    {
      "cell_type": "markdown",
      "metadata": {
        "id": "pQPn75abzMwl"
      },
      "source": [
        "# **Learn it in 5 minutes - Practical Series**"
      ]
    },
    {
      "cell_type": "markdown",
      "metadata": {
        "id": "1uPh-23czP6x"
      },
      "source": [
        "Prepared by:\n",
        "    \n",
        "Dr. Yong Poh Yu\n",
        "<br><br>\n",
        "\n",
        "LinkedIn: [Yong Poh Yu](https://www.linkedin.com/in/yong-poh-yu/)\n",
        "\n",
        "Github: [Practical R Series](https://github.com/richieyuyongpoh/Practical-R-series/tree/main/Introduction) \n",
        "\n"
      ]
    },
    {
      "cell_type": "markdown",
      "metadata": {
        "id": "c9Ttb1sTCHmb"
      },
      "source": [
        "# **Notice**\n",
        "The practical handout is open-source and under \n",
        "[GNU General Public License v3.0](https://www.gnu.org/licenses/gpl-3.0.en.html).\n",
        "\n",
        "Please cite my repository/work if you are using any contents written in this practical handout. "
      ]
    },
    {
      "cell_type": "markdown",
      "metadata": {
        "id": "Ij6LlhR6zVab"
      },
      "source": [
        "## Basic Building Blocks\n",
        "\n",
        "Main Reference: [SWIRL](http://swirlstats.com/)"
      ]
    },
    {
      "cell_type": "markdown",
      "metadata": {
        "id": "N4IeIK6kEgqa"
      },
      "source": [
        "Google Colab now supports R. You may just click `File > Save a copy in Drive` to clone and save a new copy into your Drive. "
      ]
    },
    {
      "cell_type": "markdown",
      "metadata": {
        "id": "trWDLhBM0AFb"
      },
      "source": [
        "------"
      ]
    },
    {
      "cell_type": "markdown",
      "metadata": {
        "id": "kU1HC7D9zuY5"
      },
      "source": [
        "1: In its simplest form, R can be used as an interactive calculator. Type `3 + 8` and press `ctrl + enter`  (or just click the run button)"
      ]
    },
    {
      "cell_type": "code",
      "metadata": {
        "colab": {
          "base_uri": "https://localhost:8080/",
          "height": 34
        },
        "id": "UQ9X4_1y0Frh",
        "outputId": "9951faae-f8d4-4d71-990a-7222f2fc74ae"
      },
      "source": [
        "3 + 8"
      ],
      "execution_count": null,
      "outputs": [
        {
          "output_type": "display_data",
          "data": {
            "text/plain": [
              "[1] 11"
            ],
            "text/latex": "11",
            "text/markdown": "11",
            "text/html": [
              "11"
            ]
          },
          "metadata": {
            "tags": []
          }
        }
      ]
    },
    {
      "cell_type": "markdown",
      "metadata": {
        "id": "66XMwqeb0J28"
      },
      "source": [
        "2: To assign the result of `23 + 45` to a new variable called `x`, you type \n",
        "\n",
        "`x <- 23 + 45`\n",
        "\n",
        "This can be read as 'x gets 23 plus 45'. Give it a try now."
      ]
    },
    {
      "cell_type": "code",
      "metadata": {
        "id": "51cf4OLn0Jj3"
      },
      "source": [
        "x <- 23 + 45"
      ],
      "execution_count": null,
      "outputs": []
    },
    {
      "cell_type": "markdown",
      "metadata": {
        "id": "MPpiHFPd0Umh"
      },
      "source": [
        "3: To view the contents of the variable `x`, just type `x` and press Enter. Try it now."
      ]
    },
    {
      "cell_type": "code",
      "metadata": {
        "colab": {
          "base_uri": "https://localhost:8080/",
          "height": 34
        },
        "id": "b0pM4eKZ0ZCk",
        "outputId": "aa82b0a1-35bd-4381-f72c-a7070ea1bd21"
      },
      "source": [
        "x"
      ],
      "execution_count": null,
      "outputs": [
        {
          "output_type": "display_data",
          "data": {
            "text/plain": [
              "[1] 68"
            ],
            "text/latex": "68",
            "text/markdown": "68",
            "text/html": [
              "68"
            ]
          },
          "metadata": {
            "tags": []
          }
        }
      ]
    },
    {
      "cell_type": "markdown",
      "metadata": {
        "id": "yO-ZatQG0a-4"
      },
      "source": [
        "4: Now, store the result of `x - 19` in a new variable called `y`.\n"
      ]
    },
    {
      "cell_type": "code",
      "metadata": {
        "colab": {
          "base_uri": "https://localhost:8080/",
          "height": 34
        },
        "id": "uYOzcQqd0lZm",
        "outputId": "469ccde3-de9c-41ac-8041-88b4f953332f"
      },
      "source": [
        "y <- x - 19\n",
        "y"
      ],
      "execution_count": null,
      "outputs": [
        {
          "output_type": "display_data",
          "data": {
            "text/plain": [
              "[1] 49"
            ],
            "text/latex": "49",
            "text/markdown": "49",
            "text/html": [
              "49"
            ]
          },
          "metadata": {
            "tags": []
          }
        }
      ]
    },
    {
      "cell_type": "markdown",
      "metadata": {
        "id": "kf6Z-11c0rgo"
      },
      "source": [
        "How about the following?"
      ]
    },
    {
      "cell_type": "code",
      "metadata": {
        "colab": {
          "base_uri": "https://localhost:8080/",
          "height": 34
        },
        "id": "OUHTandu0ta6",
        "outputId": "9d6b6361-f2c1-4540-abd7-7e3de597806b"
      },
      "source": [
        "y < -x - 19"
      ],
      "execution_count": null,
      "outputs": [
        {
          "output_type": "display_data",
          "data": {
            "text/plain": [
              "[1] FALSE"
            ],
            "text/latex": "FALSE",
            "text/markdown": "FALSE",
            "text/html": [
              "FALSE"
            ]
          },
          "metadata": {
            "tags": []
          }
        }
      ]
    },
    {
      "cell_type": "markdown",
      "metadata": {
        "id": "hUYvMm3n0w24"
      },
      "source": [
        "5: Now, let's create a small collection of numbers called a vector. \n",
        "\n",
        "To create a vector containing the numbers 3.9, 1, and 3.1415, type `c(3.9, 1, 3.1415)`. Try it now and store the result in a variable called `z`.\n",
        "\n"
      ]
    },
    {
      "cell_type": "code",
      "metadata": {
        "colab": {
          "base_uri": "https://localhost:8080/",
          "height": 34
        },
        "id": "EqrqW3uh04d6",
        "outputId": "c82b0a03-0d36-43e9-f5fe-b022e394d97a"
      },
      "source": [
        "z <- c(3.9, 1, 3.1415)\n",
        "z\n"
      ],
      "execution_count": null,
      "outputs": [
        {
          "output_type": "display_data",
          "data": {
            "text/plain": [
              "[1] 3.9000 1.0000 3.1415"
            ],
            "text/latex": "\\begin{enumerate*}\n\\item 3.9\n\\item 1\n\\item 3.1415\n\\end{enumerate*}\n",
            "text/markdown": "1. 3.9\n2. 1\n3. 3.1415\n\n\n",
            "text/html": [
              "<style>\n",
              ".list-inline {list-style: none; margin:0; padding: 0}\n",
              ".list-inline>li {display: inline-block}\n",
              ".list-inline>li:not(:last-child)::after {content: \"\\00b7\"; padding: 0 .5ex}\n",
              "</style>\n",
              "<ol class=list-inline><li>3.9</li><li>1</li><li>3.1415</li></ol>\n"
            ]
          },
          "metadata": {
            "tags": []
          }
        }
      ]
    },
    {
      "cell_type": "markdown",
      "metadata": {
        "id": "Ez-GfU7V08Sc"
      },
      "source": [
        "6: Help\n",
        "\n",
        "type `?c` and press Enter."
      ]
    },
    {
      "cell_type": "code",
      "metadata": {
        "id": "U-dtZmzh0_NH"
      },
      "source": [
        "?c"
      ],
      "execution_count": null,
      "outputs": []
    },
    {
      "cell_type": "markdown",
      "metadata": {
        "id": "qfa7vfwV1BFf"
      },
      "source": [
        "7: Exercise\n",
        "\n",
        "Create a new vector that contains z, 999, then z again in that order."
      ]
    },
    {
      "cell_type": "code",
      "metadata": {
        "id": "1OtroNk-1I8b"
      },
      "source": [
        "# Your codes\n",
        "\n"
      ],
      "execution_count": null,
      "outputs": []
    },
    {
      "cell_type": "markdown",
      "metadata": {
        "id": "a80cbufU1LRE"
      },
      "source": [
        "8: Arithmetic expression\n",
        "\n"
      ]
    },
    {
      "cell_type": "code",
      "metadata": {
        "colab": {
          "base_uri": "https://localhost:8080/",
          "height": 34
        },
        "id": "cowxKkXZ1Vj5",
        "outputId": "bceccb78-23e2-42e5-85a5-d7f622394602"
      },
      "source": [
        "z * 15 - 10"
      ],
      "execution_count": null,
      "outputs": [
        {
          "output_type": "display_data",
          "data": {
            "text/plain": [
              "[1] 48.5000  5.0000 37.1225"
            ],
            "text/latex": "\\begin{enumerate*}\n\\item 48.5\n\\item 5\n\\item 37.1225\n\\end{enumerate*}\n",
            "text/markdown": "1. 48.5\n2. 5\n3. 37.1225\n\n\n",
            "text/html": [
              "<style>\n",
              ".list-inline {list-style: none; margin:0; padding: 0}\n",
              ".list-inline>li {display: inline-block}\n",
              ".list-inline>li:not(:last-child)::after {content: \"\\00b7\"; padding: 0 .5ex}\n",
              "</style>\n",
              "<ol class=list-inline><li>48.5</li><li>5</li><li>37.1225</li></ol>\n"
            ]
          },
          "metadata": {
            "tags": []
          }
        }
      ]
    },
    {
      "cell_type": "markdown",
      "metadata": {
        "id": "Rq5vJDfD1Wwp"
      },
      "source": [
        "9: Exercise\n",
        "\n",
        "Take the square root of `z + 10` and assign it to a new variable called `my_sqrt`\n"
      ]
    },
    {
      "cell_type": "code",
      "metadata": {
        "id": "GECZhzox1cOw",
        "colab": {
          "base_uri": "https://localhost:8080/",
          "height": 34
        },
        "outputId": "94281ddd-1b27-4056-f782-d0aefb4ef9ab"
      },
      "source": [
        "# Your codes\n",
        "\n"
      ],
      "execution_count": null,
      "outputs": [
        {
          "output_type": "display_data",
          "data": {
            "text/plain": [
              "[1] 3.728270 3.316625 3.625121"
            ],
            "text/latex": "\\begin{enumerate*}\n\\item 3.72827037646145\n\\item 3.3166247903554\n\\item 3.62512068764614\n\\end{enumerate*}\n",
            "text/markdown": "1. 3.72827037646145\n2. 3.3166247903554\n3. 3.62512068764614\n\n\n",
            "text/html": [
              "<style>\n",
              ".list-inline {list-style: none; margin:0; padding: 0}\n",
              ".list-inline>li {display: inline-block}\n",
              ".list-inline>li:not(:last-child)::after {content: \"\\00b7\"; padding: 0 .5ex}\n",
              "</style>\n",
              "<ol class=list-inline><li>3.72827037646145</li><li>3.3166247903554</li><li>3.62512068764614</li></ol>\n"
            ]
          },
          "metadata": {
            "tags": []
          }
        }
      ]
    },
    {
      "cell_type": "markdown",
      "metadata": {
        "id": "xksAgMKU1pKn"
      },
      "source": [
        "10: Quiz\n",
        "\n",
        "what does `my_sqrt` contain?\n",
        "\n",
        "**a**: a vector of length 3.\n",
        "\n",
        "**b**: a vector of length 0 (i.e. an empty vector)\n",
        "\n",
        "**c**: a single number (i.e a vector of length 1)"
      ]
    },
    {
      "cell_type": "markdown",
      "metadata": {
        "id": "nUC4uVCv2M4j"
      },
      "source": [
        "11: Exercise\n",
        "\n",
        "create a new variable called `my_div` that gets the value of `z` divided by `my_sqrt`."
      ]
    },
    {
      "cell_type": "code",
      "metadata": {
        "colab": {
          "base_uri": "https://localhost:8080/",
          "height": 34
        },
        "id": "OaNxQ2C12VBa",
        "outputId": "878731f4-ad4f-46cd-d515-84be84ac3f66"
      },
      "source": [
        "# Your codes\n",
        "\n"
      ],
      "execution_count": null,
      "outputs": [
        {
          "output_type": "display_data",
          "data": {
            "text/plain": [
              "[1] 1.0460615 0.3015113 0.8665918"
            ],
            "text/latex": "\\begin{enumerate*}\n\\item 1.04606147253235\n\\item 0.301511344577764\n\\item 0.866591838088524\n\\end{enumerate*}\n",
            "text/markdown": "1. 1.04606147253235\n2. 0.301511344577764\n3. 0.866591838088524\n\n\n",
            "text/html": [
              "<style>\n",
              ".list-inline {list-style: none; margin:0; padding: 0}\n",
              ".list-inline>li {display: inline-block}\n",
              ".list-inline>li:not(:last-child)::after {content: \"\\00b7\"; padding: 0 .5ex}\n",
              "</style>\n",
              "<ol class=list-inline><li>1.04606147253235</li><li>0.301511344577764</li><li>0.866591838088524</li></ol>\n"
            ]
          },
          "metadata": {
            "tags": []
          }
        }
      ]
    },
    {
      "cell_type": "markdown",
      "metadata": {
        "id": "nMde-6YeFvvo"
      },
      "source": [
        "12: Quiz\n",
        "\n",
        "Which statement do you think is true?\n",
        "\n",
        "**a**: The first element of my_div is equal to the first element of z divided by the first element of my_sqrt, and so on...\n",
        "\n",
        "**b**: my_div is a single number (i.e a vector of length 1)\n",
        "\n",
        "**c**: my_div is undefined"
      ]
    }
  ]
}