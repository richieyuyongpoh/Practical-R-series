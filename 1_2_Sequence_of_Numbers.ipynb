{
  "nbformat": 4,
  "nbformat_minor": 0,
  "metadata": {
    "colab": {
      "name": "1.2 Sequence of Numbers.ipynb",
      "provenance": [],
      "collapsed_sections": [],
      "toc_visible": true,
      "include_colab_link": true
    },
    "kernelspec": {
      "name": "ir",
      "display_name": "R"
    }
  },
  "cells": [
    {
      "cell_type": "markdown",
      "metadata": {
        "id": "view-in-github",
        "colab_type": "text"
      },
      "source": [
        "<a href=\"https://colab.research.google.com/github/richieyuyongpoh/Practical-R-series/blob/main/1_2_Sequence_of_Numbers.ipynb\" target=\"_parent\"><img src=\"https://colab.research.google.com/assets/colab-badge.svg\" alt=\"Open In Colab\"/></a>"
      ]
    },
    {
      "cell_type": "markdown",
      "metadata": {
        "id": "pQPn75abzMwl"
      },
      "source": [
        "# **Learn it in 5 minutes - Practical Series**"
      ]
    },
    {
      "cell_type": "markdown",
      "metadata": {
        "id": "1uPh-23czP6x"
      },
      "source": [
        "Prepared by:\n",
        "    \n",
        "Dr. Yong Poh Yu\n",
        "<br><br>\n",
        "\n",
        "LinkedIn: [Yong Poh Yu](https://www.linkedin.com/in/yong-poh-yu/)\n",
        "\n",
        "Github: [Practical R Series](https://github.com/richieyuyongpoh/Practical-R-series/tree/main/Introduction) \n",
        "\n"
      ]
    },
    {
      "cell_type": "markdown",
      "metadata": {
        "id": "c9Ttb1sTCHmb"
      },
      "source": [
        "# **Notice**\n",
        "The practical handout is open-source and under \n",
        "[GNU General Public License v3.0](https://www.gnu.org/licenses/gpl-3.0.en.html).\n",
        "\n",
        "Please cite my repository/work if you are using any contents written in this practical handout. "
      ]
    },
    {
      "cell_type": "markdown",
      "metadata": {
        "id": "bDjKeO6v2uRk"
      },
      "source": [
        "## Sequence of Numbers\n",
        "\n",
        "Main Reference: [SWIRL](http://swirlstats.com/)"
      ]
    },
    {
      "cell_type": "markdown",
      "metadata": {
        "id": "Y9R5_HYH4wA0"
      },
      "source": [
        "1: type the following:\n",
        "\n",
        "`1:20`"
      ]
    },
    {
      "cell_type": "code",
      "metadata": {
        "id": "p160BDyi4zdx",
        "colab": {
          "base_uri": "https://localhost:8080/",
          "height": 34
        },
        "outputId": "6ce3d1aa-1c32-4f77-e879-65540175ca67"
      },
      "source": [
        "1:20"
      ],
      "execution_count": 1,
      "outputs": [
        {
          "output_type": "display_data",
          "data": {
            "text/plain": [
              " [1]  1  2  3  4  5  6  7  8  9 10 11 12 13 14 15 16 17 18 19 20"
            ],
            "text/latex": "\\begin{enumerate*}\n\\item 1\n\\item 2\n\\item 3\n\\item 4\n\\item 5\n\\item 6\n\\item 7\n\\item 8\n\\item 9\n\\item 10\n\\item 11\n\\item 12\n\\item 13\n\\item 14\n\\item 15\n\\item 16\n\\item 17\n\\item 18\n\\item 19\n\\item 20\n\\end{enumerate*}\n",
            "text/markdown": "1. 1\n2. 2\n3. 3\n4. 4\n5. 5\n6. 6\n7. 7\n8. 8\n9. 9\n10. 10\n11. 11\n12. 12\n13. 13\n14. 14\n15. 15\n16. 16\n17. 17\n18. 18\n19. 19\n20. 20\n\n\n",
            "text/html": [
              "<style>\n",
              ".list-inline {list-style: none; margin:0; padding: 0}\n",
              ".list-inline>li {display: inline-block}\n",
              ".list-inline>li:not(:last-child)::after {content: \"\\00b7\"; padding: 0 .5ex}\n",
              "</style>\n",
              "<ol class=list-inline><li>1</li><li>2</li><li>3</li><li>4</li><li>5</li><li>6</li><li>7</li><li>8</li><li>9</li><li>10</li><li>11</li><li>12</li><li>13</li><li>14</li><li>15</li><li>16</li><li>17</li><li>18</li><li>19</li><li>20</li></ol>\n"
            ]
          },
          "metadata": {
            "tags": []
          }
        }
      ]
    },
    {
      "cell_type": "markdown",
      "metadata": {
        "id": "pOJUG2ny41Wg"
      },
      "source": [
        "2: type the following:\n",
        "\n",
        "` pi:10`"
      ]
    },
    {
      "cell_type": "code",
      "metadata": {
        "id": "jgc98f1P5APr",
        "colab": {
          "base_uri": "https://localhost:8080/",
          "height": 51
        },
        "outputId": "4d0d9bd7-61dd-4f5c-f0bc-448c09aec366"
      },
      "source": [
        "pi:10"
      ],
      "execution_count": 2,
      "outputs": [
        {
          "output_type": "display_data",
          "data": {
            "text/plain": [
              "[1] 3.141593 4.141593 5.141593 6.141593 7.141593 8.141593 9.141593"
            ],
            "text/latex": "\\begin{enumerate*}\n\\item 3.14159265358979\n\\item 4.14159265358979\n\\item 5.14159265358979\n\\item 6.14159265358979\n\\item 7.14159265358979\n\\item 8.14159265358979\n\\item 9.14159265358979\n\\end{enumerate*}\n",
            "text/markdown": "1. 3.14159265358979\n2. 4.14159265358979\n3. 5.14159265358979\n4. 6.14159265358979\n5. 7.14159265358979\n6. 8.14159265358979\n7. 9.14159265358979\n\n\n",
            "text/html": [
              "<style>\n",
              ".list-inline {list-style: none; margin:0; padding: 0}\n",
              ".list-inline>li {display: inline-block}\n",
              ".list-inline>li:not(:last-child)::after {content: \"\\00b7\"; padding: 0 .5ex}\n",
              "</style>\n",
              "<ol class=list-inline><li>3.14159265358979</li><li>4.14159265358979</li><li>5.14159265358979</li><li>6.14159265358979</li><li>7.14159265358979</li><li>8.14159265358979</li><li>9.14159265358979</li></ol>\n"
            ]
          },
          "metadata": {
            "tags": []
          }
        }
      ]
    },
    {
      "cell_type": "markdown",
      "metadata": {
        "id": "WGExXVK55Cp5"
      },
      "source": [
        "3: `seq()`: Generate regular sequences"
      ]
    },
    {
      "cell_type": "code",
      "metadata": {
        "id": "PbESA-7f5Gfh",
        "colab": {
          "base_uri": "https://localhost:8080/",
          "height": 51
        },
        "outputId": "f2271c28-2573-449c-8417-9e23079fc1a4"
      },
      "source": [
        "seq(1, 40)"
      ],
      "execution_count": 5,
      "outputs": [
        {
          "output_type": "display_data",
          "data": {
            "text/plain": [
              " [1]  1  2  3  4  5  6  7  8  9 10 11 12 13 14 15 16 17 18 19 20 21 22 23 24 25\n",
              "[26] 26 27 28 29 30 31 32 33 34 35 36 37 38 39 40"
            ],
            "text/latex": "\\begin{enumerate*}\n\\item 1\n\\item 2\n\\item 3\n\\item 4\n\\item 5\n\\item 6\n\\item 7\n\\item 8\n\\item 9\n\\item 10\n\\item 11\n\\item 12\n\\item 13\n\\item 14\n\\item 15\n\\item 16\n\\item 17\n\\item 18\n\\item 19\n\\item 20\n\\item 21\n\\item 22\n\\item 23\n\\item 24\n\\item 25\n\\item 26\n\\item 27\n\\item 28\n\\item 29\n\\item 30\n\\item 31\n\\item 32\n\\item 33\n\\item 34\n\\item 35\n\\item 36\n\\item 37\n\\item 38\n\\item 39\n\\item 40\n\\end{enumerate*}\n",
            "text/markdown": "1. 1\n2. 2\n3. 3\n4. 4\n5. 5\n6. 6\n7. 7\n8. 8\n9. 9\n10. 10\n11. 11\n12. 12\n13. 13\n14. 14\n15. 15\n16. 16\n17. 17\n18. 18\n19. 19\n20. 20\n21. 21\n22. 22\n23. 23\n24. 24\n25. 25\n26. 26\n27. 27\n28. 28\n29. 29\n30. 30\n31. 31\n32. 32\n33. 33\n34. 34\n35. 35\n36. 36\n37. 37\n38. 38\n39. 39\n40. 40\n\n\n",
            "text/html": [
              "<style>\n",
              ".list-inline {list-style: none; margin:0; padding: 0}\n",
              ".list-inline>li {display: inline-block}\n",
              ".list-inline>li:not(:last-child)::after {content: \"\\00b7\"; padding: 0 .5ex}\n",
              "</style>\n",
              "<ol class=list-inline><li>1</li><li>2</li><li>3</li><li>4</li><li>5</li><li>6</li><li>7</li><li>8</li><li>9</li><li>10</li><li>11</li><li>12</li><li>13</li><li>14</li><li>15</li><li>16</li><li>17</li><li>18</li><li>19</li><li>20</li><li>21</li><li>22</li><li>23</li><li>24</li><li>25</li><li>26</li><li>27</li><li>28</li><li>29</li><li>30</li><li>31</li><li>32</li><li>33</li><li>34</li><li>35</li><li>36</li><li>37</li><li>38</li><li>39</li><li>40</li></ol>\n"
            ]
          },
          "metadata": {
            "tags": []
          }
        }
      ]
    },
    {
      "cell_type": "markdown",
      "metadata": {
        "id": "F_B1qiX35L05"
      },
      "source": [
        "4: Create a vector of numbers ranging from 0 to 7, incremented by 0.5"
      ]
    },
    {
      "cell_type": "code",
      "metadata": {
        "id": "PzaCyOie5LTw",
        "colab": {
          "base_uri": "https://localhost:8080/",
          "height": 34
        },
        "outputId": "6283f27c-729e-4e02-b15c-dce6c77d2709"
      },
      "source": [
        "seq(0, 7, by=0.5)"
      ],
      "execution_count": 6,
      "outputs": [
        {
          "output_type": "display_data",
          "data": {
            "text/plain": [
              " [1] 0.0 0.5 1.0 1.5 2.0 2.5 3.0 3.5 4.0 4.5 5.0 5.5 6.0 6.5 7.0"
            ],
            "text/latex": "\\begin{enumerate*}\n\\item 0\n\\item 0.5\n\\item 1\n\\item 1.5\n\\item 2\n\\item 2.5\n\\item 3\n\\item 3.5\n\\item 4\n\\item 4.5\n\\item 5\n\\item 5.5\n\\item 6\n\\item 6.5\n\\item 7\n\\end{enumerate*}\n",
            "text/markdown": "1. 0\n2. 0.5\n3. 1\n4. 1.5\n5. 2\n6. 2.5\n7. 3\n8. 3.5\n9. 4\n10. 4.5\n11. 5\n12. 5.5\n13. 6\n14. 6.5\n15. 7\n\n\n",
            "text/html": [
              "<style>\n",
              ".list-inline {list-style: none; margin:0; padding: 0}\n",
              ".list-inline>li {display: inline-block}\n",
              ".list-inline>li:not(:last-child)::after {content: \"\\00b7\"; padding: 0 .5ex}\n",
              "</style>\n",
              "<ol class=list-inline><li>0</li><li>0.5</li><li>1</li><li>1.5</li><li>2</li><li>2.5</li><li>3</li><li>3.5</li><li>4</li><li>4.5</li><li>5</li><li>5.5</li><li>6</li><li>6.5</li><li>7</li></ol>\n"
            ]
          },
          "metadata": {
            "tags": []
          }
        }
      ]
    },
    {
      "cell_type": "markdown",
      "metadata": {
        "id": "yZU_MAEm5RKy"
      },
      "source": [
        "5: create a sequence of 21 numbers between 10 and 20"
      ]
    },
    {
      "cell_type": "code",
      "metadata": {
        "id": "-kB0y6oc5Zlj",
        "colab": {
          "base_uri": "https://localhost:8080/",
          "height": 34
        },
        "outputId": "6d298d67-6b3f-49d7-b98e-7d90eddae38a"
      },
      "source": [
        "my_seq <- seq(5, 10, length=21)\n",
        "my_seq"
      ],
      "execution_count": 8,
      "outputs": [
        {
          "output_type": "display_data",
          "data": {
            "text/plain": [
              " [1]  5.00  5.25  5.50  5.75  6.00  6.25  6.50  6.75  7.00  7.25  7.50  7.75\n",
              "[13]  8.00  8.25  8.50  8.75  9.00  9.25  9.50  9.75 10.00"
            ],
            "text/latex": "\\begin{enumerate*}\n\\item 5\n\\item 5.25\n\\item 5.5\n\\item 5.75\n\\item 6\n\\item 6.25\n\\item 6.5\n\\item 6.75\n\\item 7\n\\item 7.25\n\\item 7.5\n\\item 7.75\n\\item 8\n\\item 8.25\n\\item 8.5\n\\item 8.75\n\\item 9\n\\item 9.25\n\\item 9.5\n\\item 9.75\n\\item 10\n\\end{enumerate*}\n",
            "text/markdown": "1. 5\n2. 5.25\n3. 5.5\n4. 5.75\n5. 6\n6. 6.25\n7. 6.5\n8. 6.75\n9. 7\n10. 7.25\n11. 7.5\n12. 7.75\n13. 8\n14. 8.25\n15. 8.5\n16. 8.75\n17. 9\n18. 9.25\n19. 9.5\n20. 9.75\n21. 10\n\n\n",
            "text/html": [
              "<style>\n",
              ".list-inline {list-style: none; margin:0; padding: 0}\n",
              ".list-inline>li {display: inline-block}\n",
              ".list-inline>li:not(:last-child)::after {content: \"\\00b7\"; padding: 0 .5ex}\n",
              "</style>\n",
              "<ol class=list-inline><li>5</li><li>5.25</li><li>5.5</li><li>5.75</li><li>6</li><li>6.25</li><li>6.5</li><li>6.75</li><li>7</li><li>7.25</li><li>7.5</li><li>7.75</li><li>8</li><li>8.25</li><li>8.5</li><li>8.75</li><li>9</li><li>9.25</li><li>9.5</li><li>9.75</li><li>10</li></ol>\n"
            ]
          },
          "metadata": {
            "tags": []
          }
        }
      ]
    },
    {
      "cell_type": "code",
      "metadata": {
        "id": "LAPopv-I5aq4",
        "colab": {
          "base_uri": "https://localhost:8080/",
          "height": 34
        },
        "outputId": "bb296aeb-e826-4645-87e9-4ae526e43c60"
      },
      "source": [
        "class(my_seq)"
      ],
      "execution_count": 9,
      "outputs": [
        {
          "output_type": "display_data",
          "data": {
            "text/plain": [
              "[1] \"numeric\""
            ],
            "text/latex": "'numeric'",
            "text/markdown": "'numeric'",
            "text/html": [
              "'numeric'"
            ]
          },
          "metadata": {
            "tags": []
          }
        }
      ]
    },
    {
      "cell_type": "markdown",
      "metadata": {
        "id": "j1MXFBjG5iIT"
      },
      "source": [
        "6: `length()`:Get or set the length of vectors and factors\n"
      ]
    },
    {
      "cell_type": "code",
      "metadata": {
        "id": "9FEdMxIi5hur",
        "colab": {
          "base_uri": "https://localhost:8080/",
          "height": 34
        },
        "outputId": "68b641a2-1560-46eb-dfee-293e28bdb815"
      },
      "source": [
        "length(my_seq)"
      ],
      "execution_count": 10,
      "outputs": [
        {
          "output_type": "display_data",
          "data": {
            "text/plain": [
              "[1] 21"
            ],
            "text/latex": "21",
            "text/markdown": "21",
            "text/html": [
              "21"
            ]
          },
          "metadata": {
            "tags": []
          }
        }
      ]
    },
    {
      "cell_type": "code",
      "metadata": {
        "colab": {
          "base_uri": "https://localhost:8080/",
          "height": 34
        },
        "id": "isEu_UkwGtcn",
        "outputId": "2d924bec-31ec-43a9-acfe-4037afcc8355"
      },
      "source": [
        "1:length(my_seq)"
      ],
      "execution_count": 11,
      "outputs": [
        {
          "output_type": "display_data",
          "data": {
            "text/plain": [
              " [1]  1  2  3  4  5  6  7  8  9 10 11 12 13 14 15 16 17 18 19 20 21"
            ],
            "text/latex": "\\begin{enumerate*}\n\\item 1\n\\item 2\n\\item 3\n\\item 4\n\\item 5\n\\item 6\n\\item 7\n\\item 8\n\\item 9\n\\item 10\n\\item 11\n\\item 12\n\\item 13\n\\item 14\n\\item 15\n\\item 16\n\\item 17\n\\item 18\n\\item 19\n\\item 20\n\\item 21\n\\end{enumerate*}\n",
            "text/markdown": "1. 1\n2. 2\n3. 3\n4. 4\n5. 5\n6. 6\n7. 7\n8. 8\n9. 9\n10. 10\n11. 11\n12. 12\n13. 13\n14. 14\n15. 15\n16. 16\n17. 17\n18. 18\n19. 19\n20. 20\n21. 21\n\n\n",
            "text/html": [
              "<style>\n",
              ".list-inline {list-style: none; margin:0; padding: 0}\n",
              ".list-inline>li {display: inline-block}\n",
              ".list-inline>li:not(:last-child)::after {content: \"\\00b7\"; padding: 0 .5ex}\n",
              "</style>\n",
              "<ol class=list-inline><li>1</li><li>2</li><li>3</li><li>4</li><li>5</li><li>6</li><li>7</li><li>8</li><li>9</li><li>10</li><li>11</li><li>12</li><li>13</li><li>14</li><li>15</li><li>16</li><li>17</li><li>18</li><li>19</li><li>20</li><li>21</li></ol>\n"
            ]
          },
          "metadata": {
            "tags": []
          }
        }
      ]
    },
    {
      "cell_type": "markdown",
      "metadata": {
        "id": "XhSVN6_85pkN"
      },
      "source": [
        "7: Exercise\n",
        "\n",
        "a: Create a vector of numbers ranging from 1 to 5, incremented by 0.2. Name it as `A`.\n",
        "\n",
        "b: Create another vector `B` that contains the squares of numbers in the list `A`"
      ]
    },
    {
      "cell_type": "code",
      "metadata": {
        "id": "1jJxzyKw6J9z"
      },
      "source": [
        ""
      ],
      "execution_count": null,
      "outputs": []
    },
    {
      "cell_type": "code",
      "metadata": {
        "id": "OfNonWc36OtT"
      },
      "source": [
        ""
      ],
      "execution_count": null,
      "outputs": []
    }
  ]
}